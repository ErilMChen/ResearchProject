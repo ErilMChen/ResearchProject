{
 "cells": [
  {
   "cell_type": "code",
   "execution_count": 2,
   "metadata": {},
   "outputs": [],
   "source": [
    "import pandas as pd\n",
    "import sqlite3"
   ]
  },
  {
   "cell_type": "code",
   "execution_count": 8,
   "metadata": {},
   "outputs": [],
   "source": [
    "conn = sqlite3.connect(\"busdata_18.sqlite\")\n",
    "cur = conn.cursor()"
   ]
  },
  {
   "cell_type": "code",
   "execution_count": 3,
   "metadata": {},
   "outputs": [],
   "source": [
    "trips = pd.read_csv(\"trips_clean.csv\")"
   ]
  },
  {
   "cell_type": "code",
   "execution_count": 4,
   "metadata": {},
   "outputs": [
    {
     "name": "stdout",
     "output_type": "stream",
     "text": [
      "['68', '25B', '45A', '25A', '14', '77A', '39', '16', '40D', '27B', '142', '83', '130', '15', '46A', '33', '7', '39A', '49', '1', '123', '41', '67X', '59', '9', '40', '239', '76', '84', '53', '185', '151', '13', '15B', '65B', '29A', '61', '140', '79A', '38A', '31', '33B', '69', '44', '42', '67', '184', '238', '145', '17A', '32', '27A', '17', '27X', '18', '122', '54A', '66', '150', '56A', '37', '27', '15A', '65', '11', '47', '79', '83A', '63', '4', '120', '41C', '70', '84A', '220', '39X', '32X', '68A', '84X', '38', '102', '270', '51X', '33X', '75', '26', '66A', '31A', '111', '14C', '114', '76A', '44B', '161', '7A', '43', '25', '104', '33A', '16C', '42D', '31B', '66X', '31D', '33D', '41B', '40B', '7D', '46E', '38D', '118', '51D', '15D', '41A', '25D', '66B', '38B', '236', '7B', '41X', '69X', '68X', '25X', '40E', '70D', '116', '77X', '16D', '33E', '41D']\n",
      "\n",
      "unique_LINEID_list length: 130\n"
     ]
    }
   ],
   "source": [
    "unique_LINEID_list = trips.LINEID.tolist()\n",
    "print(unique_LINEID_list)\n",
    "print()\n",
    "print(\"unique_LINEID_list length:\", len(unique_LINEID_list))"
   ]
  },
  {
   "cell_type": "code",
   "execution_count": 5,
   "metadata": {},
   "outputs": [],
   "source": [
    "def check_leavetimes_for_missing_data(unique_LINEID_list):\n",
    "    for line in unique_LINEID_list:\n",
    "        trips_result = cur.execute(\"SELECT * FROM trips_cleaned WHERE LINEID=?;\", (line,))\n",
    "        trips_df = pd.DataFrame(trips_result.fetchall(), columns=[\"DAYOFSERVICE\", \"TRIPID\", \"LINEID\", \"ROUTEID\", \"DIRECTION\", \"PLANNEDTIME_ARR\", \"PLANNEDTIME_DEP\", \"ACTUALTIME_ARR\", \"ACTUALTIME_DEP\"])\n",
    "        trips_df = trips_df.rename(columns={\"PLANNEDTIME_ARR\":\"PLANNEDARR_TRIP\", \"PLANNEDTIME_DEP\":\"PLANNEDDEP_TRIP\", \"ACTUALTIME_ARR\":\"ACTUALARR_TRIP\", \"ACTUALTIME_DEP\":\"ACTUALDEP_TRIP\"})\n",
    "        unique_ROUTEID_list = trips_df.ROUTEID.unique().tolist()\n",
    "        print(\"Trips dataframe created for\", line)\n",
    "\n",
    "        leavetimes_df =  pd.DataFrame(columns = [\"DAYOFSERVICE\", \"TRIPID\", \"PROGRNUMBER\", \"STOPPOINTID\", \"PLANNEDTIME_ARR\", \"PLANNEDTIME_DEP\", \"ACTUALTIME_ARR\", \"ACTUALTIME_DEP\"])\n",
    "\n",
    "        unique_TRIPID_list = trips_df.TRIPID.unique().tolist()\n",
    "        for trip in unique_TRIPID_list:\n",
    "            result = cur.execute(\"SELECT DAYOFSERVICE, TRIPID, PROGRNUMBER, STOPPOINTID, PLANNEDTIME_ARR, PLANNEDTIME_DEP, ACTUALTIME_ARR, ACTUALTIME_DEP FROM leavetimes_cleaned WHERE TRIPID=?;\", (trip,))\n",
    "            current_subset = pd.DataFrame(result.fetchall(), columns=[\"DAYOFSERVICE\", \"TRIPID\", \"PROGRNUMBER\", \"STOPPOINTID\", \"PLANNEDTIME_ARR\", \"PLANNEDTIME_DEP\", \"ACTUALTIME_ARR\", \"ACTUALTIME_DEP\"])\n",
    "            leavetimes_df = leavetimes_df.append(current_subset)\n",
    "\n",
    "        print(\"Leavetimes dataframe created for\", line)\n",
    "        leavetimes_df = leavetimes_df.rename(columns={\"PLANNEDTIME_ARR\":\"PLANNEDARR_STOP\", \"PLANNEDTIME_DEP\":\"PLANNEDDEP_STOP\", \"ACTUALTIME_ARR\":\"ACTUALARR_STOP\", \"ACTUALTIME_DEP\":\"ACTUALDEP_STOP\"})\n",
    "\n",
    "        merged = leavetimes_df.merge(trips_df, on=[\"DAYOFSERVICE\", \"TRIPID\"], how=\"left\")\n",
    "        dep_null = merged.loc[merged[\"ACTUALDEP_TRIP\"].isna()]\n",
    "        arr_null = merged.loc[merged[\"ACTUALARR_TRIP\"].isna()]\n",
    "\n",
    "        for route in unique_ROUTEID_list:\n",
    "            current_route_df = merged.loc[merged[\"ROUTEID\"] == route]\n",
    "            PROGRNUMBER_list = current_route_df.PROGRNUMBER.unique().tolist()\n",
    "            PROGRNUMBER_list.sort()\n",
    "            first = dep_null.loc[(merged[\"ROUTEID\"] == route) & (merged[\"PROGRNUMBER\"] == PROGRNUMBER_list[0]) & (merged[\"ACTUALDEP_TRIP\"].isna())]\n",
    "            if first.shape[0] > 0:\n",
    "                print(\"Imputable ACTUALTIME_DEP for\", route + \":\", first.shape[0])\n",
    "            last = arr_null.loc[(merged[\"ROUTEID\"] == route) & (merged[\"PROGRNUMBER\"] == PROGRNUMBER_list[len(PROGRNUMBER_list)-1]) & (merged[\"ACTUALARR_TRIP\"].isna())]\n",
    "            if last.shape[0] > 0:\n",
    "                print(\"Imputable ACTUALTIME_ARR for\", route + \":\", last.shape[0])\n",
    "            print(\"Finished checking route\", route)\n",
    "        print(\"Completed\", line)\n",
    "        print(\"****************************************\")\n",
    "    "
   ]
  },
  {
   "cell_type": "code",
   "execution_count": 1,
   "metadata": {},
   "outputs": [],
   "source": [
    "check_leavetimes_for_missing_data(unique_LINEID_list)"
   ]
  }
 ],
 "metadata": {
  "kernelspec": {
   "display_name": "Python 3",
   "language": "python",
   "name": "python3"
  },
  "language_info": {
   "codemirror_mode": {
    "name": "ipython",
    "version": 3
   },
   "file_extension": ".py",
   "mimetype": "text/x-python",
   "name": "python",
   "nbconvert_exporter": "python",
   "pygments_lexer": "ipython3",
   "version": "3.8.5"
  }
 },
 "nbformat": 4,
 "nbformat_minor": 2
}
