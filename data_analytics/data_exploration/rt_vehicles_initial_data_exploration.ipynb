{
 "cells": [
  {
   "cell_type": "code",
   "execution_count": 1,
   "id": "085a90c7",
   "metadata": {},
   "outputs": [],
   "source": [
    "import pandas as pd\n",
    "from datetime import datetime"
   ]
  },
  {
   "cell_type": "code",
   "execution_count": 2,
   "id": "9ebe1feb",
   "metadata": {},
   "outputs": [],
   "source": [
    "df = pd.read_csv(\"rt_vehicles_DB_2018.txt\", sep=\";\")"
   ]
  },
  {
   "cell_type": "code",
   "execution_count": 3,
   "id": "9104b502",
   "metadata": {},
   "outputs": [
    {
     "data": {
      "text/html": [
       "<div>\n",
       "<style scoped>\n",
       "    .dataframe tbody tr th:only-of-type {\n",
       "        vertical-align: middle;\n",
       "    }\n",
       "\n",
       "    .dataframe tbody tr th {\n",
       "        vertical-align: top;\n",
       "    }\n",
       "\n",
       "    .dataframe thead th {\n",
       "        text-align: right;\n",
       "    }\n",
       "</style>\n",
       "<table border=\"1\" class=\"dataframe\">\n",
       "  <thead>\n",
       "    <tr style=\"text-align: right;\">\n",
       "      <th></th>\n",
       "      <th>DATASOURCE</th>\n",
       "      <th>DAYOFSERVICE</th>\n",
       "      <th>VEHICLEID</th>\n",
       "      <th>DISTANCE</th>\n",
       "      <th>MINUTES</th>\n",
       "      <th>LASTUPDATE</th>\n",
       "      <th>NOTE</th>\n",
       "    </tr>\n",
       "  </thead>\n",
       "  <tbody>\n",
       "    <tr>\n",
       "      <th>0</th>\n",
       "      <td>DB</td>\n",
       "      <td>23-NOV-18 00:00:00</td>\n",
       "      <td>3303848</td>\n",
       "      <td>286166</td>\n",
       "      <td>58849</td>\n",
       "      <td>04-DEC-18 08:03:09</td>\n",
       "      <td>NaN</td>\n",
       "    </tr>\n",
       "    <tr>\n",
       "      <th>1</th>\n",
       "      <td>DB</td>\n",
       "      <td>23-NOV-18 00:00:00</td>\n",
       "      <td>3303847</td>\n",
       "      <td>259545</td>\n",
       "      <td>56828</td>\n",
       "      <td>04-DEC-18 08:03:09</td>\n",
       "      <td>NaN</td>\n",
       "    </tr>\n",
       "    <tr>\n",
       "      <th>2</th>\n",
       "      <td>DB</td>\n",
       "      <td>28-FEB-18 00:00:00</td>\n",
       "      <td>2868329</td>\n",
       "      <td>103096</td>\n",
       "      <td>40967</td>\n",
       "      <td>08-MAR-18 10:35:59</td>\n",
       "      <td>NaN</td>\n",
       "    </tr>\n",
       "    <tr>\n",
       "      <th>3</th>\n",
       "      <td>DB</td>\n",
       "      <td>28-FEB-18 00:00:00</td>\n",
       "      <td>2868330</td>\n",
       "      <td>147277</td>\n",
       "      <td>43599</td>\n",
       "      <td>08-MAR-18 10:35:59</td>\n",
       "      <td>NaN</td>\n",
       "    </tr>\n",
       "    <tr>\n",
       "      <th>4</th>\n",
       "      <td>DB</td>\n",
       "      <td>28-FEB-18 00:00:00</td>\n",
       "      <td>2868331</td>\n",
       "      <td>224682</td>\n",
       "      <td>40447</td>\n",
       "      <td>08-MAR-18 10:35:59</td>\n",
       "      <td>NaN</td>\n",
       "    </tr>\n",
       "    <tr>\n",
       "      <th>5</th>\n",
       "      <td>DB</td>\n",
       "      <td>28-FEB-18 00:00:00</td>\n",
       "      <td>2868332</td>\n",
       "      <td>19499</td>\n",
       "      <td>6289</td>\n",
       "      <td>08-MAR-18 10:35:59</td>\n",
       "      <td>NaN</td>\n",
       "    </tr>\n",
       "    <tr>\n",
       "      <th>6</th>\n",
       "      <td>DB</td>\n",
       "      <td>28-FEB-18 00:00:00</td>\n",
       "      <td>2868333</td>\n",
       "      <td>133014</td>\n",
       "      <td>43647</td>\n",
       "      <td>08-MAR-18 10:35:59</td>\n",
       "      <td>NaN</td>\n",
       "    </tr>\n",
       "    <tr>\n",
       "      <th>7</th>\n",
       "      <td>DB</td>\n",
       "      <td>28-FEB-18 00:00:00</td>\n",
       "      <td>2868334</td>\n",
       "      <td>168964</td>\n",
       "      <td>47167</td>\n",
       "      <td>08-MAR-18 10:35:59</td>\n",
       "      <td>NaN</td>\n",
       "    </tr>\n",
       "    <tr>\n",
       "      <th>8</th>\n",
       "      <td>DB</td>\n",
       "      <td>28-FEB-18 00:00:00</td>\n",
       "      <td>2868335</td>\n",
       "      <td>360842</td>\n",
       "      <td>55477</td>\n",
       "      <td>08-MAR-18 10:35:59</td>\n",
       "      <td>NaN</td>\n",
       "    </tr>\n",
       "    <tr>\n",
       "      <th>9</th>\n",
       "      <td>DB</td>\n",
       "      <td>28-FEB-18 00:00:00</td>\n",
       "      <td>2868336</td>\n",
       "      <td>139959</td>\n",
       "      <td>39599</td>\n",
       "      <td>08-MAR-18 10:35:59</td>\n",
       "      <td>NaN</td>\n",
       "    </tr>\n",
       "  </tbody>\n",
       "</table>\n",
       "</div>"
      ],
      "text/plain": [
       "  DATASOURCE        DAYOFSERVICE  VEHICLEID  DISTANCE  MINUTES  \\\n",
       "0         DB  23-NOV-18 00:00:00    3303848    286166    58849   \n",
       "1         DB  23-NOV-18 00:00:00    3303847    259545    56828   \n",
       "2         DB  28-FEB-18 00:00:00    2868329    103096    40967   \n",
       "3         DB  28-FEB-18 00:00:00    2868330    147277    43599   \n",
       "4         DB  28-FEB-18 00:00:00    2868331    224682    40447   \n",
       "5         DB  28-FEB-18 00:00:00    2868332     19499     6289   \n",
       "6         DB  28-FEB-18 00:00:00    2868333    133014    43647   \n",
       "7         DB  28-FEB-18 00:00:00    2868334    168964    47167   \n",
       "8         DB  28-FEB-18 00:00:00    2868335    360842    55477   \n",
       "9         DB  28-FEB-18 00:00:00    2868336    139959    39599   \n",
       "\n",
       "           LASTUPDATE  NOTE  \n",
       "0  04-DEC-18 08:03:09   NaN  \n",
       "1  04-DEC-18 08:03:09   NaN  \n",
       "2  08-MAR-18 10:35:59   NaN  \n",
       "3  08-MAR-18 10:35:59   NaN  \n",
       "4  08-MAR-18 10:35:59   NaN  \n",
       "5  08-MAR-18 10:35:59   NaN  \n",
       "6  08-MAR-18 10:35:59   NaN  \n",
       "7  08-MAR-18 10:35:59   NaN  \n",
       "8  08-MAR-18 10:35:59   NaN  \n",
       "9  08-MAR-18 10:35:59   NaN  "
      ]
     },
     "execution_count": 3,
     "metadata": {},
     "output_type": "execute_result"
    }
   ],
   "source": [
    "df.head(10)"
   ]
  },
  {
   "cell_type": "code",
   "execution_count": 4,
   "id": "a9feb627",
   "metadata": {},
   "outputs": [
    {
     "data": {
      "text/plain": [
       "(272622, 7)"
      ]
     },
     "execution_count": 4,
     "metadata": {},
     "output_type": "execute_result"
    }
   ],
   "source": [
    "df.shape"
   ]
  },
  {
   "cell_type": "code",
   "execution_count": 5,
   "id": "04556b2c",
   "metadata": {},
   "outputs": [
    {
     "data": {
      "text/plain": [
       "DATASOURCE       object\n",
       "DAYOFSERVICE     object\n",
       "VEHICLEID         int64\n",
       "DISTANCE          int64\n",
       "MINUTES           int64\n",
       "LASTUPDATE       object\n",
       "NOTE            float64\n",
       "dtype: object"
      ]
     },
     "execution_count": 5,
     "metadata": {},
     "output_type": "execute_result"
    }
   ],
   "source": [
    "df.dtypes"
   ]
  },
  {
   "cell_type": "code",
   "execution_count": 6,
   "id": "af6a3959",
   "metadata": {},
   "outputs": [
    {
     "name": "stdout",
     "output_type": "stream",
     "text": [
      "Number of duplicate rows (excluding first occurrence) in the table is: 0\n"
     ]
    }
   ],
   "source": [
    "print('Number of duplicate rows (excluding first occurrence) in the table is:', df.duplicated().sum())"
   ]
  },
  {
   "cell_type": "code",
   "execution_count": 7,
   "id": "aab2baef",
   "metadata": {},
   "outputs": [
    {
     "data": {
      "text/plain": [
       "DATASOURCE           1\n",
       "DAYOFSERVICE       360\n",
       "VEHICLEID         1152\n",
       "DISTANCE        170498\n",
       "MINUTES          57523\n",
       "LASTUPDATE         360\n",
       "NOTE                 0\n",
       "dtype: int64"
      ]
     },
     "execution_count": 7,
     "metadata": {},
     "output_type": "execute_result"
    }
   ],
   "source": [
    "# Display count of unique values for each feature\n",
    "df.nunique(axis=0)"
   ]
  },
  {
   "cell_type": "code",
   "execution_count": 8,
   "id": "dce5c8f4",
   "metadata": {},
   "outputs": [],
   "source": [
    "# Drop DATASOURCE, NOTE\n",
    "df.drop([\"DATASOURCE\", \"NOTE\"], axis = 1, inplace=True)"
   ]
  },
  {
   "cell_type": "code",
   "execution_count": 9,
   "id": "a092f03d",
   "metadata": {},
   "outputs": [
    {
     "data": {
      "text/html": [
       "<div>\n",
       "<style scoped>\n",
       "    .dataframe tbody tr th:only-of-type {\n",
       "        vertical-align: middle;\n",
       "    }\n",
       "\n",
       "    .dataframe tbody tr th {\n",
       "        vertical-align: top;\n",
       "    }\n",
       "\n",
       "    .dataframe thead th {\n",
       "        text-align: right;\n",
       "    }\n",
       "</style>\n",
       "<table border=\"1\" class=\"dataframe\">\n",
       "  <thead>\n",
       "    <tr style=\"text-align: right;\">\n",
       "      <th></th>\n",
       "      <th>DAYOFSERVICE</th>\n",
       "      <th>VEHICLEID</th>\n",
       "      <th>DISTANCE</th>\n",
       "      <th>MINUTES</th>\n",
       "      <th>LASTUPDATE</th>\n",
       "    </tr>\n",
       "  </thead>\n",
       "  <tbody>\n",
       "    <tr>\n",
       "      <th>0</th>\n",
       "      <td>23-NOV-18 00:00:00</td>\n",
       "      <td>3303848</td>\n",
       "      <td>286166</td>\n",
       "      <td>58849</td>\n",
       "      <td>04-DEC-18 08:03:09</td>\n",
       "    </tr>\n",
       "    <tr>\n",
       "      <th>1</th>\n",
       "      <td>23-NOV-18 00:00:00</td>\n",
       "      <td>3303847</td>\n",
       "      <td>259545</td>\n",
       "      <td>56828</td>\n",
       "      <td>04-DEC-18 08:03:09</td>\n",
       "    </tr>\n",
       "    <tr>\n",
       "      <th>2</th>\n",
       "      <td>28-FEB-18 00:00:00</td>\n",
       "      <td>2868329</td>\n",
       "      <td>103096</td>\n",
       "      <td>40967</td>\n",
       "      <td>08-MAR-18 10:35:59</td>\n",
       "    </tr>\n",
       "    <tr>\n",
       "      <th>3</th>\n",
       "      <td>28-FEB-18 00:00:00</td>\n",
       "      <td>2868330</td>\n",
       "      <td>147277</td>\n",
       "      <td>43599</td>\n",
       "      <td>08-MAR-18 10:35:59</td>\n",
       "    </tr>\n",
       "    <tr>\n",
       "      <th>4</th>\n",
       "      <td>28-FEB-18 00:00:00</td>\n",
       "      <td>2868331</td>\n",
       "      <td>224682</td>\n",
       "      <td>40447</td>\n",
       "      <td>08-MAR-18 10:35:59</td>\n",
       "    </tr>\n",
       "  </tbody>\n",
       "</table>\n",
       "</div>"
      ],
      "text/plain": [
       "         DAYOFSERVICE  VEHICLEID  DISTANCE  MINUTES          LASTUPDATE\n",
       "0  23-NOV-18 00:00:00    3303848    286166    58849  04-DEC-18 08:03:09\n",
       "1  23-NOV-18 00:00:00    3303847    259545    56828  04-DEC-18 08:03:09\n",
       "2  28-FEB-18 00:00:00    2868329    103096    40967  08-MAR-18 10:35:59\n",
       "3  28-FEB-18 00:00:00    2868330    147277    43599  08-MAR-18 10:35:59\n",
       "4  28-FEB-18 00:00:00    2868331    224682    40447  08-MAR-18 10:35:59"
      ]
     },
     "execution_count": 9,
     "metadata": {},
     "output_type": "execute_result"
    }
   ],
   "source": [
    "df.head()"
   ]
  },
  {
   "cell_type": "code",
   "execution_count": 10,
   "id": "6ae5b29e",
   "metadata": {},
   "outputs": [],
   "source": [
    "# Define function to convert datetime in format seen in data to timestamp\n",
    "def to_timestamp(date):\n",
    "    stamp = int(datetime.timestamp(datetime.strptime(date, '%d-%b-%y %H:%M:%S')))\n",
    "    return stamp"
   ]
  },
  {
   "cell_type": "code",
   "execution_count": 11,
   "id": "29843511",
   "metadata": {},
   "outputs": [],
   "source": [
    "# Create new dt feature containing datetimes from DAYOFSERVICE converted to timestamp - for consistency across data\n",
    "# Convert values in LASTUPDATE to timestamp\n",
    "df[\"dt\"] = df[\"DAYOFSERVICE\"].apply(to_timestamp)\n",
    "df[\"LASTUPDATE\"] = df[\"LASTUPDATE\"].apply(to_timestamp)"
   ]
  },
  {
   "cell_type": "code",
   "execution_count": 12,
   "id": "8a0b38f6",
   "metadata": {},
   "outputs": [
    {
     "data": {
      "text/html": [
       "<div>\n",
       "<style scoped>\n",
       "    .dataframe tbody tr th:only-of-type {\n",
       "        vertical-align: middle;\n",
       "    }\n",
       "\n",
       "    .dataframe tbody tr th {\n",
       "        vertical-align: top;\n",
       "    }\n",
       "\n",
       "    .dataframe thead th {\n",
       "        text-align: right;\n",
       "    }\n",
       "</style>\n",
       "<table border=\"1\" class=\"dataframe\">\n",
       "  <thead>\n",
       "    <tr style=\"text-align: right;\">\n",
       "      <th></th>\n",
       "      <th>DAYOFSERVICE</th>\n",
       "      <th>VEHICLEID</th>\n",
       "      <th>DISTANCE</th>\n",
       "      <th>MINUTES</th>\n",
       "      <th>LASTUPDATE</th>\n",
       "      <th>dt</th>\n",
       "    </tr>\n",
       "  </thead>\n",
       "  <tbody>\n",
       "    <tr>\n",
       "      <th>0</th>\n",
       "      <td>23-NOV-18 00:00:00</td>\n",
       "      <td>3303848</td>\n",
       "      <td>286166</td>\n",
       "      <td>58849</td>\n",
       "      <td>1543910589</td>\n",
       "      <td>1542931200</td>\n",
       "    </tr>\n",
       "    <tr>\n",
       "      <th>1</th>\n",
       "      <td>23-NOV-18 00:00:00</td>\n",
       "      <td>3303847</td>\n",
       "      <td>259545</td>\n",
       "      <td>56828</td>\n",
       "      <td>1543910589</td>\n",
       "      <td>1542931200</td>\n",
       "    </tr>\n",
       "    <tr>\n",
       "      <th>2</th>\n",
       "      <td>28-FEB-18 00:00:00</td>\n",
       "      <td>2868329</td>\n",
       "      <td>103096</td>\n",
       "      <td>40967</td>\n",
       "      <td>1520505359</td>\n",
       "      <td>1519776000</td>\n",
       "    </tr>\n",
       "    <tr>\n",
       "      <th>3</th>\n",
       "      <td>28-FEB-18 00:00:00</td>\n",
       "      <td>2868330</td>\n",
       "      <td>147277</td>\n",
       "      <td>43599</td>\n",
       "      <td>1520505359</td>\n",
       "      <td>1519776000</td>\n",
       "    </tr>\n",
       "    <tr>\n",
       "      <th>4</th>\n",
       "      <td>28-FEB-18 00:00:00</td>\n",
       "      <td>2868331</td>\n",
       "      <td>224682</td>\n",
       "      <td>40447</td>\n",
       "      <td>1520505359</td>\n",
       "      <td>1519776000</td>\n",
       "    </tr>\n",
       "  </tbody>\n",
       "</table>\n",
       "</div>"
      ],
      "text/plain": [
       "         DAYOFSERVICE  VEHICLEID  DISTANCE  MINUTES  LASTUPDATE          dt\n",
       "0  23-NOV-18 00:00:00    3303848    286166    58849  1543910589  1542931200\n",
       "1  23-NOV-18 00:00:00    3303847    259545    56828  1543910589  1542931200\n",
       "2  28-FEB-18 00:00:00    2868329    103096    40967  1520505359  1519776000\n",
       "3  28-FEB-18 00:00:00    2868330    147277    43599  1520505359  1519776000\n",
       "4  28-FEB-18 00:00:00    2868331    224682    40447  1520505359  1519776000"
      ]
     },
     "execution_count": 12,
     "metadata": {},
     "output_type": "execute_result"
    }
   ],
   "source": [
    "df.head()"
   ]
  },
  {
   "cell_type": "code",
   "execution_count": 13,
   "id": "aa32c427",
   "metadata": {},
   "outputs": [],
   "source": [
    "df.drop([\"DAYOFSERVICE\"], axis = 1, inplace=True)"
   ]
  },
  {
   "cell_type": "code",
   "execution_count": 14,
   "id": "a59011f5",
   "metadata": {},
   "outputs": [
    {
     "data": {
      "text/html": [
       "<div>\n",
       "<style scoped>\n",
       "    .dataframe tbody tr th:only-of-type {\n",
       "        vertical-align: middle;\n",
       "    }\n",
       "\n",
       "    .dataframe tbody tr th {\n",
       "        vertical-align: top;\n",
       "    }\n",
       "\n",
       "    .dataframe thead th {\n",
       "        text-align: right;\n",
       "    }\n",
       "</style>\n",
       "<table border=\"1\" class=\"dataframe\">\n",
       "  <thead>\n",
       "    <tr style=\"text-align: right;\">\n",
       "      <th></th>\n",
       "      <th>VEHICLEID</th>\n",
       "      <th>DISTANCE</th>\n",
       "      <th>MINUTES</th>\n",
       "      <th>LASTUPDATE</th>\n",
       "      <th>dt</th>\n",
       "    </tr>\n",
       "  </thead>\n",
       "  <tbody>\n",
       "    <tr>\n",
       "      <th>0</th>\n",
       "      <td>3303848</td>\n",
       "      <td>286166</td>\n",
       "      <td>58849</td>\n",
       "      <td>1543910589</td>\n",
       "      <td>1542931200</td>\n",
       "    </tr>\n",
       "    <tr>\n",
       "      <th>1</th>\n",
       "      <td>3303847</td>\n",
       "      <td>259545</td>\n",
       "      <td>56828</td>\n",
       "      <td>1543910589</td>\n",
       "      <td>1542931200</td>\n",
       "    </tr>\n",
       "    <tr>\n",
       "      <th>2</th>\n",
       "      <td>2868329</td>\n",
       "      <td>103096</td>\n",
       "      <td>40967</td>\n",
       "      <td>1520505359</td>\n",
       "      <td>1519776000</td>\n",
       "    </tr>\n",
       "    <tr>\n",
       "      <th>3</th>\n",
       "      <td>2868330</td>\n",
       "      <td>147277</td>\n",
       "      <td>43599</td>\n",
       "      <td>1520505359</td>\n",
       "      <td>1519776000</td>\n",
       "    </tr>\n",
       "    <tr>\n",
       "      <th>4</th>\n",
       "      <td>2868331</td>\n",
       "      <td>224682</td>\n",
       "      <td>40447</td>\n",
       "      <td>1520505359</td>\n",
       "      <td>1519776000</td>\n",
       "    </tr>\n",
       "  </tbody>\n",
       "</table>\n",
       "</div>"
      ],
      "text/plain": [
       "   VEHICLEID  DISTANCE  MINUTES  LASTUPDATE          dt\n",
       "0    3303848    286166    58849  1543910589  1542931200\n",
       "1    3303847    259545    56828  1543910589  1542931200\n",
       "2    2868329    103096    40967  1520505359  1519776000\n",
       "3    2868330    147277    43599  1520505359  1519776000\n",
       "4    2868331    224682    40447  1520505359  1519776000"
      ]
     },
     "execution_count": 14,
     "metadata": {},
     "output_type": "execute_result"
    }
   ],
   "source": [
    "df.head()"
   ]
  },
  {
   "cell_type": "code",
   "execution_count": 15,
   "id": "13690a99",
   "metadata": {},
   "outputs": [],
   "source": [
    "df.to_csv(\"rt_vehicles_DB_2018_cleaned.csv\", index=False)"
   ]
  },
  {
   "cell_type": "markdown",
   "id": "00eb7886",
   "metadata": {},
   "source": [
    "<h3>Sample for Download</h3>"
   ]
  },
  {
   "cell_type": "code",
   "execution_count": 16,
   "id": "8765dd52",
   "metadata": {},
   "outputs": [],
   "source": [
    "# Define function to convert datetime in format seen in data to timestamp\n",
    "def to_timestamp2(x):\n",
    "    out = int(datetime.timestamp(datetime.strptime(x, '%d-%b-%Y %H:%M')))\n",
    "    return out"
   ]
  },
  {
   "cell_type": "code",
   "execution_count": 17,
   "id": "038b57de",
   "metadata": {},
   "outputs": [
    {
     "data": {
      "text/html": [
       "<div>\n",
       "<style scoped>\n",
       "    .dataframe tbody tr th:only-of-type {\n",
       "        vertical-align: middle;\n",
       "    }\n",
       "\n",
       "    .dataframe tbody tr th {\n",
       "        vertical-align: top;\n",
       "    }\n",
       "\n",
       "    .dataframe thead th {\n",
       "        text-align: right;\n",
       "    }\n",
       "</style>\n",
       "<table border=\"1\" class=\"dataframe\">\n",
       "  <thead>\n",
       "    <tr style=\"text-align: right;\">\n",
       "      <th></th>\n",
       "      <th>VEHICLEID</th>\n",
       "      <th>DISTANCE</th>\n",
       "      <th>MINUTES</th>\n",
       "      <th>LASTUPDATE</th>\n",
       "      <th>dt</th>\n",
       "    </tr>\n",
       "  </thead>\n",
       "  <tbody>\n",
       "    <tr>\n",
       "      <th>0</th>\n",
       "      <td>3303848</td>\n",
       "      <td>286166</td>\n",
       "      <td>58849</td>\n",
       "      <td>1543910589</td>\n",
       "      <td>1542931200</td>\n",
       "    </tr>\n",
       "    <tr>\n",
       "      <th>1</th>\n",
       "      <td>3303847</td>\n",
       "      <td>259545</td>\n",
       "      <td>56828</td>\n",
       "      <td>1543910589</td>\n",
       "      <td>1542931200</td>\n",
       "    </tr>\n",
       "    <tr>\n",
       "      <th>89</th>\n",
       "      <td>2868335</td>\n",
       "      <td>214200</td>\n",
       "      <td>57959</td>\n",
       "      <td>1530534720</td>\n",
       "      <td>1529622000</td>\n",
       "    </tr>\n",
       "    <tr>\n",
       "      <th>90</th>\n",
       "      <td>2868336</td>\n",
       "      <td>173589</td>\n",
       "      <td>59660</td>\n",
       "      <td>1530534720</td>\n",
       "      <td>1529622000</td>\n",
       "    </tr>\n",
       "    <tr>\n",
       "      <th>91</th>\n",
       "      <td>2868337</td>\n",
       "      <td>120299</td>\n",
       "      <td>47519</td>\n",
       "      <td>1530534720</td>\n",
       "      <td>1529622000</td>\n",
       "    </tr>\n",
       "  </tbody>\n",
       "</table>\n",
       "</div>"
      ],
      "text/plain": [
       "    VEHICLEID  DISTANCE  MINUTES  LASTUPDATE          dt\n",
       "0     3303848    286166    58849  1543910589  1542931200\n",
       "1     3303847    259545    56828  1543910589  1542931200\n",
       "89    2868335    214200    57959  1530534720  1529622000\n",
       "90    2868336    173589    59660  1530534720  1529622000\n",
       "91    2868337    120299    47519  1530534720  1529622000"
      ]
     },
     "execution_count": 17,
     "metadata": {},
     "output_type": "execute_result"
    }
   ],
   "source": [
    "start_date = to_timestamp2(\"05-mar-2018 00:00\")\n",
    "end_date = to_timestamp2(\"11-mar-2018 23:00\") \n",
    "mar_df = df[df[\"dt\"] >= start_date]\n",
    "mar_df.head(5)"
   ]
  },
  {
   "cell_type": "code",
   "execution_count": 18,
   "id": "f94f28ab",
   "metadata": {},
   "outputs": [
    {
     "data": {
      "text/plain": [
       "(226160, 5)"
      ]
     },
     "execution_count": 18,
     "metadata": {},
     "output_type": "execute_result"
    }
   ],
   "source": [
    "mar_df.shape"
   ]
  },
  {
   "cell_type": "code",
   "execution_count": 19,
   "id": "0e5b6b10",
   "metadata": {},
   "outputs": [
    {
     "name": "stdout",
     "output_type": "stream",
     "text": [
      "Number of rows in subset:  5507\n"
     ]
    }
   ],
   "source": [
    "mar_df = mar_df[(mar_df[\"dt\"]) <= end_date]\n",
    "print(\"Number of rows in subset: \", mar_df.shape[0])"
   ]
  },
  {
   "cell_type": "code",
   "execution_count": 23,
   "id": "8aee8580",
   "metadata": {},
   "outputs": [],
   "source": [
    "mar_df.sort_values(by=\"dt\", inplace=True)"
   ]
  },
  {
   "cell_type": "code",
   "execution_count": 25,
   "id": "31f03623",
   "metadata": {},
   "outputs": [
    {
     "data": {
      "text/html": [
       "<div>\n",
       "<style scoped>\n",
       "    .dataframe tbody tr th:only-of-type {\n",
       "        vertical-align: middle;\n",
       "    }\n",
       "\n",
       "    .dataframe tbody tr th {\n",
       "        vertical-align: top;\n",
       "    }\n",
       "\n",
       "    .dataframe thead th {\n",
       "        text-align: right;\n",
       "    }\n",
       "</style>\n",
       "<table border=\"1\" class=\"dataframe\">\n",
       "  <thead>\n",
       "    <tr style=\"text-align: right;\">\n",
       "      <th></th>\n",
       "      <th>VEHICLEID</th>\n",
       "      <th>DISTANCE</th>\n",
       "      <th>MINUTES</th>\n",
       "      <th>LASTUPDATE</th>\n",
       "      <th>dt</th>\n",
       "    </tr>\n",
       "  </thead>\n",
       "  <tbody>\n",
       "    <tr>\n",
       "      <th>63849</th>\n",
       "      <td>2693254</td>\n",
       "      <td>245831</td>\n",
       "      <td>35442</td>\n",
       "      <td>1521188059</td>\n",
       "      <td>1520208000</td>\n",
       "    </tr>\n",
       "    <tr>\n",
       "      <th>47830</th>\n",
       "      <td>1000170</td>\n",
       "      <td>167754</td>\n",
       "      <td>49433</td>\n",
       "      <td>1521188059</td>\n",
       "      <td>1520208000</td>\n",
       "    </tr>\n",
       "    <tr>\n",
       "      <th>47831</th>\n",
       "      <td>2534815</td>\n",
       "      <td>222226</td>\n",
       "      <td>60173</td>\n",
       "      <td>1521188059</td>\n",
       "      <td>1520208000</td>\n",
       "    </tr>\n",
       "    <tr>\n",
       "      <th>47832</th>\n",
       "      <td>2172272</td>\n",
       "      <td>187756</td>\n",
       "      <td>52430</td>\n",
       "      <td>1521188059</td>\n",
       "      <td>1520208000</td>\n",
       "    </tr>\n",
       "    <tr>\n",
       "      <th>47833</th>\n",
       "      <td>1001241</td>\n",
       "      <td>96704</td>\n",
       "      <td>41653</td>\n",
       "      <td>1521188059</td>\n",
       "      <td>1520208000</td>\n",
       "    </tr>\n",
       "  </tbody>\n",
       "</table>\n",
       "</div>"
      ],
      "text/plain": [
       "       VEHICLEID  DISTANCE  MINUTES  LASTUPDATE          dt\n",
       "63849    2693254    245831    35442  1521188059  1520208000\n",
       "47830    1000170    167754    49433  1521188059  1520208000\n",
       "47831    2534815    222226    60173  1521188059  1520208000\n",
       "47832    2172272    187756    52430  1521188059  1520208000\n",
       "47833    1001241     96704    41653  1521188059  1520208000"
      ]
     },
     "execution_count": 25,
     "metadata": {},
     "output_type": "execute_result"
    }
   ],
   "source": [
    "mar_df.head()"
   ]
  },
  {
   "cell_type": "code",
   "execution_count": 24,
   "id": "3a1b9dc8",
   "metadata": {},
   "outputs": [
    {
     "data": {
      "text/html": [
       "<div>\n",
       "<style scoped>\n",
       "    .dataframe tbody tr th:only-of-type {\n",
       "        vertical-align: middle;\n",
       "    }\n",
       "\n",
       "    .dataframe tbody tr th {\n",
       "        vertical-align: top;\n",
       "    }\n",
       "\n",
       "    .dataframe thead th {\n",
       "        text-align: right;\n",
       "    }\n",
       "</style>\n",
       "<table border=\"1\" class=\"dataframe\">\n",
       "  <thead>\n",
       "    <tr style=\"text-align: right;\">\n",
       "      <th></th>\n",
       "      <th>VEHICLEID</th>\n",
       "      <th>DISTANCE</th>\n",
       "      <th>MINUTES</th>\n",
       "      <th>LASTUPDATE</th>\n",
       "      <th>dt</th>\n",
       "    </tr>\n",
       "  </thead>\n",
       "  <tbody>\n",
       "    <tr>\n",
       "      <th>50715</th>\n",
       "      <td>2534798</td>\n",
       "      <td>115779</td>\n",
       "      <td>28383</td>\n",
       "      <td>1521471779</td>\n",
       "      <td>1520726400</td>\n",
       "    </tr>\n",
       "    <tr>\n",
       "      <th>50716</th>\n",
       "      <td>2534803</td>\n",
       "      <td>117302</td>\n",
       "      <td>32130</td>\n",
       "      <td>1521471779</td>\n",
       "      <td>1520726400</td>\n",
       "    </tr>\n",
       "    <tr>\n",
       "      <th>50717</th>\n",
       "      <td>2534805</td>\n",
       "      <td>163071</td>\n",
       "      <td>36640</td>\n",
       "      <td>1521471779</td>\n",
       "      <td>1520726400</td>\n",
       "    </tr>\n",
       "    <tr>\n",
       "      <th>50704</th>\n",
       "      <td>2406918</td>\n",
       "      <td>190705</td>\n",
       "      <td>52131</td>\n",
       "      <td>1521471779</td>\n",
       "      <td>1520726400</td>\n",
       "    </tr>\n",
       "    <tr>\n",
       "      <th>50772</th>\n",
       "      <td>2693211</td>\n",
       "      <td>155021</td>\n",
       "      <td>49776</td>\n",
       "      <td>1521471779</td>\n",
       "      <td>1520726400</td>\n",
       "    </tr>\n",
       "  </tbody>\n",
       "</table>\n",
       "</div>"
      ],
      "text/plain": [
       "       VEHICLEID  DISTANCE  MINUTES  LASTUPDATE          dt\n",
       "50715    2534798    115779    28383  1521471779  1520726400\n",
       "50716    2534803    117302    32130  1521471779  1520726400\n",
       "50717    2534805    163071    36640  1521471779  1520726400\n",
       "50704    2406918    190705    52131  1521471779  1520726400\n",
       "50772    2693211    155021    49776  1521471779  1520726400"
      ]
     },
     "execution_count": 24,
     "metadata": {},
     "output_type": "execute_result"
    }
   ],
   "source": [
    "mar_df.tail()"
   ]
  },
  {
   "cell_type": "code",
   "execution_count": 26,
   "id": "db1b7a70",
   "metadata": {},
   "outputs": [],
   "source": [
    "mar_df.to_csv(\"5_11_march_vehicles.csv\", index=False)"
   ]
  },
  {
   "cell_type": "code",
   "execution_count": null,
   "id": "476cc526",
   "metadata": {},
   "outputs": [],
   "source": []
  }
 ],
 "metadata": {
  "kernelspec": {
   "display_name": "Python 3",
   "language": "python",
   "name": "python3"
  },
  "language_info": {
   "codemirror_mode": {
    "name": "ipython",
    "version": 3
   },
   "file_extension": ".py",
   "mimetype": "text/x-python",
   "name": "python",
   "nbconvert_exporter": "python",
   "pygments_lexer": "ipython3",
   "version": "3.8.10"
  }
 },
 "nbformat": 4,
 "nbformat_minor": 5
}
