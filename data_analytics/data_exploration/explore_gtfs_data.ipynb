{
 "cells": [
  {
   "cell_type": "code",
   "execution_count": 1,
   "metadata": {},
   "outputs": [],
   "source": [
    "import pandas as pd\n",
    "import time\n",
    "import datetime\n",
    "import requests\n",
    "import traceback\n",
    "import pandas as pd\n",
    "from sqlalchemy import create_engine, MetaData, Table, Column, Integer, Float, String, DateTime\n",
    "import sqlalchemy\n",
    "import numpy as np\n",
    "from datetime import datetime\n",
    "import mysql.connector\n",
    "\n",
    "# hide ipykernel warnings \n",
    "import warnings\n",
    "warnings.filterwarnings('ignore')"
   ]
  },
  {
   "cell_type": "code",
   "execution_count": 31,
   "metadata": {},
   "outputs": [],
   "source": [
    "engine = create_engine(f\"mysql+mysqlconnector://{name}:{password}@{host}:3306/{db}\", echo=True)"
   ]
  },
  {
   "cell_type": "code",
   "execution_count": 32,
   "metadata": {},
   "outputs": [],
   "source": [
    "db = mysql.connector.connect(\n",
    "    host=myhost,\n",
    "    user=myuser,\n",
    "    password=mypasswd,\n",
    "    database=mydatabase\n",
    ")\n",
    "\n",
    "cur = db.cursor()"
   ]
  },
  {
   "cell_type": "code",
   "execution_count": 33,
   "metadata": {},
   "outputs": [
    {
     "name": "stdout",
     "output_type": "stream",
     "text": [
      "2021-08-09 16:25:37,586 INFO sqlalchemy.engine.base.Engine SHOW VARIABLES LIKE 'sql_mode'\n",
      "2021-08-09 16:25:37,586 INFO sqlalchemy.engine.base.Engine {}\n",
      "2021-08-09 16:25:37,966 INFO sqlalchemy.engine.base.Engine SHOW VARIABLES LIKE 'lower_case_table_names'\n",
      "2021-08-09 16:25:37,967 INFO sqlalchemy.engine.base.Engine {}\n",
      "2021-08-09 16:25:38,717 INFO sqlalchemy.engine.base.Engine SELECT DATABASE()\n",
      "2021-08-09 16:25:38,718 INFO sqlalchemy.engine.base.Engine {}\n",
      "2021-08-09 16:25:39,476 INFO sqlalchemy.engine.base.Engine SELECT CAST('test plain returns' AS CHAR(60)) AS anon_1\n",
      "2021-08-09 16:25:39,476 INFO sqlalchemy.engine.base.Engine {}\n",
      "2021-08-09 16:25:39,861 INFO sqlalchemy.engine.base.Engine SELECT CAST('test unicode returns' AS CHAR(60)) AS anon_1\n",
      "2021-08-09 16:25:39,863 INFO sqlalchemy.engine.base.Engine {}\n"
     ]
    }
   ],
   "source": [
    "engine = create_engine(f\"mysql+mysqlconnector://{myuser}:{mypasswd}@{myhost}:3306/{mydatabase}\", echo=True)\n",
    "connection = engine.connect()"
   ]
  },
  {
   "cell_type": "markdown",
   "metadata": {},
   "source": [
    "<h3>routes.txt</h3>\n",
    "<p>Find all currently operational lines (GTFS data last downloaded on 02/08/21)</p>"
   ]
  },
  {
   "cell_type": "code",
   "execution_count": 2,
   "metadata": {},
   "outputs": [],
   "source": [
    "lines_df = pd.read_csv(\"routes.txt\")"
   ]
  },
  {
   "cell_type": "code",
   "execution_count": 3,
   "metadata": {},
   "outputs": [
    {
     "data": {
      "text/html": [
       "<div>\n",
       "<style scoped>\n",
       "    .dataframe tbody tr th:only-of-type {\n",
       "        vertical-align: middle;\n",
       "    }\n",
       "\n",
       "    .dataframe tbody tr th {\n",
       "        vertical-align: top;\n",
       "    }\n",
       "\n",
       "    .dataframe thead th {\n",
       "        text-align: right;\n",
       "    }\n",
       "</style>\n",
       "<table border=\"1\" class=\"dataframe\">\n",
       "  <thead>\n",
       "    <tr style=\"text-align: right;\">\n",
       "      <th></th>\n",
       "      <th>route_id</th>\n",
       "      <th>agency_id</th>\n",
       "      <th>route_short_name</th>\n",
       "      <th>route_long_name</th>\n",
       "      <th>route_type</th>\n",
       "    </tr>\n",
       "  </thead>\n",
       "  <tbody>\n",
       "    <tr>\n",
       "      <th>0</th>\n",
       "      <td>60-1-b12-1</td>\n",
       "      <td>978</td>\n",
       "      <td>1</td>\n",
       "      <td>NaN</td>\n",
       "      <td>3</td>\n",
       "    </tr>\n",
       "    <tr>\n",
       "      <th>1</th>\n",
       "      <td>60-102-b12-1</td>\n",
       "      <td>978</td>\n",
       "      <td>102</td>\n",
       "      <td>NaN</td>\n",
       "      <td>3</td>\n",
       "    </tr>\n",
       "    <tr>\n",
       "      <th>2</th>\n",
       "      <td>60-104-b12-1</td>\n",
       "      <td>978</td>\n",
       "      <td>104</td>\n",
       "      <td>NaN</td>\n",
       "      <td>3</td>\n",
       "    </tr>\n",
       "    <tr>\n",
       "      <th>3</th>\n",
       "      <td>60-11-b12-1</td>\n",
       "      <td>978</td>\n",
       "      <td>11</td>\n",
       "      <td>NaN</td>\n",
       "      <td>3</td>\n",
       "    </tr>\n",
       "    <tr>\n",
       "      <th>4</th>\n",
       "      <td>60-111-b12-1</td>\n",
       "      <td>978</td>\n",
       "      <td>111</td>\n",
       "      <td>NaN</td>\n",
       "      <td>3</td>\n",
       "    </tr>\n",
       "  </tbody>\n",
       "</table>\n",
       "</div>"
      ],
      "text/plain": [
       "       route_id  agency_id route_short_name  route_long_name  route_type\n",
       "0    60-1-b12-1        978                1              NaN           3\n",
       "1  60-102-b12-1        978              102              NaN           3\n",
       "2  60-104-b12-1        978              104              NaN           3\n",
       "3   60-11-b12-1        978               11              NaN           3\n",
       "4  60-111-b12-1        978              111              NaN           3"
      ]
     },
     "execution_count": 3,
     "metadata": {},
     "output_type": "execute_result"
    }
   ],
   "source": [
    "lines_df.head()"
   ]
  },
  {
   "cell_type": "code",
   "execution_count": 4,
   "metadata": {},
   "outputs": [
    {
     "name": "stdout",
     "output_type": "stream",
     "text": [
      "['1', '102', '104', '11', '111', '114', '116', '118', '120', '122', '123', '13', '130', '14', '140', '142', '145', '14c', '15', '150', '151', '155', '15a', '15b', '15d', '16', '161', '16c', '16d', '17', '17a', '18', '184', '185', '220', '236', '238', '239', '25', '25a', '25b', '25d', '25x', '26', '27', '270', '27a', '27b', '27x', '29a', '31', '31a', '31b', '31d', '32', '32x', '33', '33a', '33b', '33d', '33e', '33x', '37', '38', '38a', '38b', '38d', '39', '39a', '39x', '4', '40', '40b', '40d', '40e', '41', '41a', '41b', '41c', '41d', '41x', '42', '42d', '43', '44', '44b', '451', '45a', '46a', '46e', '47', '49', '51d', '51x', '53', '53a', '54a', '56a', '59', '6', '61', '63', '65', '65b', '66', '66a', '66b', '66e', '66x', '67', '67x', '68', '68a', '68x', '69', '69x', '7', '70', '70d', '747', '75', '757', '76', '76a', '77a', '77x', '79', '79a', '7a', '7b', '7d', '8', '83', '83a', '84', '84a', '84x', '86', '9', 'H1', 'H2', 'H3', 'H9']\n"
     ]
    }
   ],
   "source": [
    "# List currently operational lines\n",
    "all_lines = lines_df.route_short_name.unique().tolist()\n",
    "all_lines.sort()\n",
    "print(all_lines)"
   ]
  },
  {
   "cell_type": "code",
   "execution_count": 5,
   "metadata": {},
   "outputs": [
    {
     "data": {
      "text/plain": [
       "143"
      ]
     },
     "execution_count": 5,
     "metadata": {},
     "output_type": "execute_result"
    }
   ],
   "source": [
    "len(all_lines)"
   ]
  },
  {
   "cell_type": "code",
   "execution_count": 6,
   "metadata": {},
   "outputs": [],
   "source": [
    "line_ids = lines_df[[\"route_id\", \"route_short_name\"]].copy()"
   ]
  },
  {
   "cell_type": "code",
   "execution_count": 7,
   "metadata": {},
   "outputs": [],
   "source": [
    "line_ids.rename(columns={\"route_short_name\": \"line\"}, inplace=True)"
   ]
  },
  {
   "cell_type": "code",
   "execution_count": 8,
   "metadata": {
    "scrolled": true
   },
   "outputs": [
    {
     "data": {
      "text/html": [
       "<div>\n",
       "<style scoped>\n",
       "    .dataframe tbody tr th:only-of-type {\n",
       "        vertical-align: middle;\n",
       "    }\n",
       "\n",
       "    .dataframe tbody tr th {\n",
       "        vertical-align: top;\n",
       "    }\n",
       "\n",
       "    .dataframe thead th {\n",
       "        text-align: right;\n",
       "    }\n",
       "</style>\n",
       "<table border=\"1\" class=\"dataframe\">\n",
       "  <thead>\n",
       "    <tr style=\"text-align: right;\">\n",
       "      <th></th>\n",
       "      <th>route_id</th>\n",
       "      <th>line</th>\n",
       "    </tr>\n",
       "  </thead>\n",
       "  <tbody>\n",
       "    <tr>\n",
       "      <th>0</th>\n",
       "      <td>60-1-b12-1</td>\n",
       "      <td>1</td>\n",
       "    </tr>\n",
       "    <tr>\n",
       "      <th>1</th>\n",
       "      <td>60-102-b12-1</td>\n",
       "      <td>102</td>\n",
       "    </tr>\n",
       "    <tr>\n",
       "      <th>2</th>\n",
       "      <td>60-104-b12-1</td>\n",
       "      <td>104</td>\n",
       "    </tr>\n",
       "    <tr>\n",
       "      <th>3</th>\n",
       "      <td>60-11-b12-1</td>\n",
       "      <td>11</td>\n",
       "    </tr>\n",
       "    <tr>\n",
       "      <th>4</th>\n",
       "      <td>60-111-b12-1</td>\n",
       "      <td>111</td>\n",
       "    </tr>\n",
       "  </tbody>\n",
       "</table>\n",
       "</div>"
      ],
      "text/plain": [
       "       route_id line\n",
       "0    60-1-b12-1    1\n",
       "1  60-102-b12-1  102\n",
       "2  60-104-b12-1  104\n",
       "3   60-11-b12-1   11\n",
       "4  60-111-b12-1  111"
      ]
     },
     "execution_count": 8,
     "metadata": {},
     "output_type": "execute_result"
    }
   ],
   "source": [
    "line_ids.head()"
   ]
  },
  {
   "cell_type": "markdown",
   "metadata": {},
   "source": [
    "<h3>shapes.txt</h3>\n",
    "<p>Data describing the path that each route takes. N.B. coordinates do not represent stops on the route.</p>"
   ]
  },
  {
   "cell_type": "code",
   "execution_count": 9,
   "metadata": {},
   "outputs": [],
   "source": [
    "shapes_df = pd.read_csv(\"shapes.txt\")"
   ]
  },
  {
   "cell_type": "code",
   "execution_count": 10,
   "metadata": {},
   "outputs": [
    {
     "data": {
      "text/html": [
       "<div>\n",
       "<style scoped>\n",
       "    .dataframe tbody tr th:only-of-type {\n",
       "        vertical-align: middle;\n",
       "    }\n",
       "\n",
       "    .dataframe tbody tr th {\n",
       "        vertical-align: top;\n",
       "    }\n",
       "\n",
       "    .dataframe thead th {\n",
       "        text-align: right;\n",
       "    }\n",
       "</style>\n",
       "<table border=\"1\" class=\"dataframe\">\n",
       "  <thead>\n",
       "    <tr style=\"text-align: right;\">\n",
       "      <th></th>\n",
       "      <th>shape_id</th>\n",
       "      <th>shape_pt_lat</th>\n",
       "      <th>shape_pt_lon</th>\n",
       "      <th>shape_pt_sequence</th>\n",
       "      <th>shape_dist_traveled</th>\n",
       "    </tr>\n",
       "  </thead>\n",
       "  <tbody>\n",
       "    <tr>\n",
       "      <th>0</th>\n",
       "      <td>60-116-b12-1.56.O</td>\n",
       "      <td>53.329631</td>\n",
       "      <td>-6.249012</td>\n",
       "      <td>1</td>\n",
       "      <td>0.00</td>\n",
       "    </tr>\n",
       "    <tr>\n",
       "      <th>1</th>\n",
       "      <td>60-116-b12-1.56.O</td>\n",
       "      <td>53.329316</td>\n",
       "      <td>-6.248409</td>\n",
       "      <td>2</td>\n",
       "      <td>53.15</td>\n",
       "    </tr>\n",
       "    <tr>\n",
       "      <th>2</th>\n",
       "      <td>60-116-b12-1.56.O</td>\n",
       "      <td>53.329056</td>\n",
       "      <td>-6.247819</td>\n",
       "      <td>3</td>\n",
       "      <td>101.85</td>\n",
       "    </tr>\n",
       "    <tr>\n",
       "      <th>3</th>\n",
       "      <td>60-116-b12-1.56.O</td>\n",
       "      <td>53.328519</td>\n",
       "      <td>-6.246715</td>\n",
       "      <td>4</td>\n",
       "      <td>196.45</td>\n",
       "    </tr>\n",
       "    <tr>\n",
       "      <th>4</th>\n",
       "      <td>60-116-b12-1.56.O</td>\n",
       "      <td>53.328406</td>\n",
       "      <td>-6.246390</td>\n",
       "      <td>5</td>\n",
       "      <td>221.44</td>\n",
       "    </tr>\n",
       "  </tbody>\n",
       "</table>\n",
       "</div>"
      ],
      "text/plain": [
       "            shape_id  shape_pt_lat  shape_pt_lon  shape_pt_sequence  \\\n",
       "0  60-116-b12-1.56.O     53.329631     -6.249012                  1   \n",
       "1  60-116-b12-1.56.O     53.329316     -6.248409                  2   \n",
       "2  60-116-b12-1.56.O     53.329056     -6.247819                  3   \n",
       "3  60-116-b12-1.56.O     53.328519     -6.246715                  4   \n",
       "4  60-116-b12-1.56.O     53.328406     -6.246390                  5   \n",
       "\n",
       "   shape_dist_traveled  \n",
       "0                 0.00  \n",
       "1                53.15  \n",
       "2               101.85  \n",
       "3               196.45  \n",
       "4               221.44  "
      ]
     },
     "execution_count": 10,
     "metadata": {},
     "output_type": "execute_result"
    }
   ],
   "source": [
    "shapes_df.head()"
   ]
  },
  {
   "cell_type": "code",
   "execution_count": 11,
   "metadata": {},
   "outputs": [],
   "source": [
    "shapes_df[\"line\"] = shapes_df.apply(lambda row: row.shape_id.split(\"-\")[1], axis=1)"
   ]
  },
  {
   "cell_type": "code",
   "execution_count": 12,
   "metadata": {},
   "outputs": [
    {
     "data": {
      "text/html": [
       "<div>\n",
       "<style scoped>\n",
       "    .dataframe tbody tr th:only-of-type {\n",
       "        vertical-align: middle;\n",
       "    }\n",
       "\n",
       "    .dataframe tbody tr th {\n",
       "        vertical-align: top;\n",
       "    }\n",
       "\n",
       "    .dataframe thead th {\n",
       "        text-align: right;\n",
       "    }\n",
       "</style>\n",
       "<table border=\"1\" class=\"dataframe\">\n",
       "  <thead>\n",
       "    <tr style=\"text-align: right;\">\n",
       "      <th></th>\n",
       "      <th>shape_id</th>\n",
       "      <th>shape_pt_lat</th>\n",
       "      <th>shape_pt_lon</th>\n",
       "      <th>shape_pt_sequence</th>\n",
       "      <th>shape_dist_traveled</th>\n",
       "      <th>line</th>\n",
       "    </tr>\n",
       "  </thead>\n",
       "  <tbody>\n",
       "    <tr>\n",
       "      <th>0</th>\n",
       "      <td>60-116-b12-1.56.O</td>\n",
       "      <td>53.329631</td>\n",
       "      <td>-6.249012</td>\n",
       "      <td>1</td>\n",
       "      <td>0.00</td>\n",
       "      <td>116</td>\n",
       "    </tr>\n",
       "    <tr>\n",
       "      <th>1</th>\n",
       "      <td>60-116-b12-1.56.O</td>\n",
       "      <td>53.329316</td>\n",
       "      <td>-6.248409</td>\n",
       "      <td>2</td>\n",
       "      <td>53.15</td>\n",
       "      <td>116</td>\n",
       "    </tr>\n",
       "    <tr>\n",
       "      <th>2</th>\n",
       "      <td>60-116-b12-1.56.O</td>\n",
       "      <td>53.329056</td>\n",
       "      <td>-6.247819</td>\n",
       "      <td>3</td>\n",
       "      <td>101.85</td>\n",
       "      <td>116</td>\n",
       "    </tr>\n",
       "    <tr>\n",
       "      <th>3</th>\n",
       "      <td>60-116-b12-1.56.O</td>\n",
       "      <td>53.328519</td>\n",
       "      <td>-6.246715</td>\n",
       "      <td>4</td>\n",
       "      <td>196.45</td>\n",
       "      <td>116</td>\n",
       "    </tr>\n",
       "    <tr>\n",
       "      <th>4</th>\n",
       "      <td>60-116-b12-1.56.O</td>\n",
       "      <td>53.328406</td>\n",
       "      <td>-6.246390</td>\n",
       "      <td>5</td>\n",
       "      <td>221.44</td>\n",
       "      <td>116</td>\n",
       "    </tr>\n",
       "  </tbody>\n",
       "</table>\n",
       "</div>"
      ],
      "text/plain": [
       "            shape_id  shape_pt_lat  shape_pt_lon  shape_pt_sequence  \\\n",
       "0  60-116-b12-1.56.O     53.329631     -6.249012                  1   \n",
       "1  60-116-b12-1.56.O     53.329316     -6.248409                  2   \n",
       "2  60-116-b12-1.56.O     53.329056     -6.247819                  3   \n",
       "3  60-116-b12-1.56.O     53.328519     -6.246715                  4   \n",
       "4  60-116-b12-1.56.O     53.328406     -6.246390                  5   \n",
       "\n",
       "   shape_dist_traveled line  \n",
       "0                 0.00  116  \n",
       "1                53.15  116  \n",
       "2               101.85  116  \n",
       "3               196.45  116  \n",
       "4               221.44  116  "
      ]
     },
     "execution_count": 12,
     "metadata": {},
     "output_type": "execute_result"
    }
   ],
   "source": [
    "shapes_df.head()"
   ]
  },
  {
   "cell_type": "code",
   "execution_count": 13,
   "metadata": {},
   "outputs": [],
   "source": [
    "shapes_df[\"route_id\"] = shapes_df.apply(lambda row: row.shape_id.split(\".\")[0], axis=1)"
   ]
  },
  {
   "cell_type": "code",
   "execution_count": 14,
   "metadata": {},
   "outputs": [
    {
     "data": {
      "text/html": [
       "<div>\n",
       "<style scoped>\n",
       "    .dataframe tbody tr th:only-of-type {\n",
       "        vertical-align: middle;\n",
       "    }\n",
       "\n",
       "    .dataframe tbody tr th {\n",
       "        vertical-align: top;\n",
       "    }\n",
       "\n",
       "    .dataframe thead th {\n",
       "        text-align: right;\n",
       "    }\n",
       "</style>\n",
       "<table border=\"1\" class=\"dataframe\">\n",
       "  <thead>\n",
       "    <tr style=\"text-align: right;\">\n",
       "      <th></th>\n",
       "      <th>shape_id</th>\n",
       "      <th>shape_pt_lat</th>\n",
       "      <th>shape_pt_lon</th>\n",
       "      <th>shape_pt_sequence</th>\n",
       "      <th>shape_dist_traveled</th>\n",
       "      <th>line</th>\n",
       "      <th>route_id</th>\n",
       "    </tr>\n",
       "  </thead>\n",
       "  <tbody>\n",
       "    <tr>\n",
       "      <th>0</th>\n",
       "      <td>60-116-b12-1.56.O</td>\n",
       "      <td>53.329631</td>\n",
       "      <td>-6.249012</td>\n",
       "      <td>1</td>\n",
       "      <td>0.00</td>\n",
       "      <td>116</td>\n",
       "      <td>60-116-b12-1</td>\n",
       "    </tr>\n",
       "    <tr>\n",
       "      <th>1</th>\n",
       "      <td>60-116-b12-1.56.O</td>\n",
       "      <td>53.329316</td>\n",
       "      <td>-6.248409</td>\n",
       "      <td>2</td>\n",
       "      <td>53.15</td>\n",
       "      <td>116</td>\n",
       "      <td>60-116-b12-1</td>\n",
       "    </tr>\n",
       "    <tr>\n",
       "      <th>2</th>\n",
       "      <td>60-116-b12-1.56.O</td>\n",
       "      <td>53.329056</td>\n",
       "      <td>-6.247819</td>\n",
       "      <td>3</td>\n",
       "      <td>101.85</td>\n",
       "      <td>116</td>\n",
       "      <td>60-116-b12-1</td>\n",
       "    </tr>\n",
       "    <tr>\n",
       "      <th>3</th>\n",
       "      <td>60-116-b12-1.56.O</td>\n",
       "      <td>53.328519</td>\n",
       "      <td>-6.246715</td>\n",
       "      <td>4</td>\n",
       "      <td>196.45</td>\n",
       "      <td>116</td>\n",
       "      <td>60-116-b12-1</td>\n",
       "    </tr>\n",
       "    <tr>\n",
       "      <th>4</th>\n",
       "      <td>60-116-b12-1.56.O</td>\n",
       "      <td>53.328406</td>\n",
       "      <td>-6.246390</td>\n",
       "      <td>5</td>\n",
       "      <td>221.44</td>\n",
       "      <td>116</td>\n",
       "      <td>60-116-b12-1</td>\n",
       "    </tr>\n",
       "  </tbody>\n",
       "</table>\n",
       "</div>"
      ],
      "text/plain": [
       "            shape_id  shape_pt_lat  shape_pt_lon  shape_pt_sequence  \\\n",
       "0  60-116-b12-1.56.O     53.329631     -6.249012                  1   \n",
       "1  60-116-b12-1.56.O     53.329316     -6.248409                  2   \n",
       "2  60-116-b12-1.56.O     53.329056     -6.247819                  3   \n",
       "3  60-116-b12-1.56.O     53.328519     -6.246715                  4   \n",
       "4  60-116-b12-1.56.O     53.328406     -6.246390                  5   \n",
       "\n",
       "   shape_dist_traveled line      route_id  \n",
       "0                 0.00  116  60-116-b12-1  \n",
       "1                53.15  116  60-116-b12-1  \n",
       "2               101.85  116  60-116-b12-1  \n",
       "3               196.45  116  60-116-b12-1  \n",
       "4               221.44  116  60-116-b12-1  "
      ]
     },
     "execution_count": 14,
     "metadata": {},
     "output_type": "execute_result"
    }
   ],
   "source": [
    "shapes_df.head()"
   ]
  },
  {
   "cell_type": "code",
   "execution_count": 15,
   "metadata": {},
   "outputs": [
    {
     "data": {
      "text/plain": [
       "(251080, 7)"
      ]
     },
     "execution_count": 15,
     "metadata": {},
     "output_type": "execute_result"
    }
   ],
   "source": [
    "shapes_df.shape"
   ]
  },
  {
   "cell_type": "code",
   "execution_count": 16,
   "metadata": {},
   "outputs": [],
   "source": [
    "shape_ids = shapes_df.shape_id.unique().tolist()"
   ]
  },
  {
   "cell_type": "code",
   "execution_count": 17,
   "metadata": {},
   "outputs": [
    {
     "data": {
      "text/plain": [
       "719"
      ]
     },
     "execution_count": 17,
     "metadata": {},
     "output_type": "execute_result"
    }
   ],
   "source": [
    "# Number of routes\n",
    "len(shape_ids)"
   ]
  },
  {
   "cell_type": "code",
   "execution_count": 18,
   "metadata": {},
   "outputs": [],
   "source": [
    "lines = shapes_df.line.unique().tolist()\n",
    "lines.sort()"
   ]
  },
  {
   "cell_type": "code",
   "execution_count": 19,
   "metadata": {},
   "outputs": [
    {
     "data": {
      "text/plain": [
       "102"
      ]
     },
     "execution_count": 19,
     "metadata": {},
     "output_type": "execute_result"
    }
   ],
   "source": [
    "# Number of lines\n",
    "len(lines)"
   ]
  },
  {
   "cell_type": "code",
   "execution_count": 20,
   "metadata": {},
   "outputs": [
    {
     "name": "stdout",
     "output_type": "stream",
     "text": [
      "['1', '11', '116', '118', '120', '122', '123', '13', '130', '14', '140', '142', '145', '15', '150', '151', '155', '15A', '15B', '15D', '16', '16D', '25', '25A', '25B', '25D', '25X', '26', '27', '27A', '27B', '27X', '32X', '33', '33D', '33E', '33X', '37', '38', '38A', '38B', '38D', '39', '39A', '39X', '4', '40', '40B', '40D', '40E', '41', '41B', '41C', '41D', '41X', '42', '43', '44', '44B', '46A', '46E', '47', '49', '51D', '53', '54A', '56A', '6', '61', '65', '65B', '66', '66A', '66B', '66E', '66X', '67', '67X', '68', '68A', '68X', '69', '69X', '7', '70', '77A', '77X', '79', '79A', '7A', '7B', '7D', '83', '83A', '84', '84A', '84X', '9', 'H1', 'H2', 'H3', 'H9']\n"
     ]
    }
   ],
   "source": [
    "print(lines)"
   ]
  },
  {
   "cell_type": "markdown",
   "metadata": {},
   "source": [
    "<p>Dropping shape_pt data as these do not necessarily relate to bus stops and it is bus stops only that we want to plot</p>"
   ]
  },
  {
   "cell_type": "code",
   "execution_count": 21,
   "metadata": {},
   "outputs": [],
   "source": [
    "shapes_df.drop([\"shape_pt_lat\", \"shape_pt_lon\", \"shape_pt_sequence\", \"shape_dist_traveled\"], axis=1, inplace=True)"
   ]
  },
  {
   "cell_type": "code",
   "execution_count": 22,
   "metadata": {},
   "outputs": [
    {
     "data": {
      "text/html": [
       "<div>\n",
       "<style scoped>\n",
       "    .dataframe tbody tr th:only-of-type {\n",
       "        vertical-align: middle;\n",
       "    }\n",
       "\n",
       "    .dataframe tbody tr th {\n",
       "        vertical-align: top;\n",
       "    }\n",
       "\n",
       "    .dataframe thead th {\n",
       "        text-align: right;\n",
       "    }\n",
       "</style>\n",
       "<table border=\"1\" class=\"dataframe\">\n",
       "  <thead>\n",
       "    <tr style=\"text-align: right;\">\n",
       "      <th></th>\n",
       "      <th>shape_id</th>\n",
       "      <th>line</th>\n",
       "      <th>route_id</th>\n",
       "    </tr>\n",
       "  </thead>\n",
       "  <tbody>\n",
       "    <tr>\n",
       "      <th>0</th>\n",
       "      <td>60-116-b12-1.56.O</td>\n",
       "      <td>116</td>\n",
       "      <td>60-116-b12-1</td>\n",
       "    </tr>\n",
       "    <tr>\n",
       "      <th>1</th>\n",
       "      <td>60-116-b12-1.56.O</td>\n",
       "      <td>116</td>\n",
       "      <td>60-116-b12-1</td>\n",
       "    </tr>\n",
       "    <tr>\n",
       "      <th>2</th>\n",
       "      <td>60-116-b12-1.56.O</td>\n",
       "      <td>116</td>\n",
       "      <td>60-116-b12-1</td>\n",
       "    </tr>\n",
       "    <tr>\n",
       "      <th>3</th>\n",
       "      <td>60-116-b12-1.56.O</td>\n",
       "      <td>116</td>\n",
       "      <td>60-116-b12-1</td>\n",
       "    </tr>\n",
       "    <tr>\n",
       "      <th>4</th>\n",
       "      <td>60-116-b12-1.56.O</td>\n",
       "      <td>116</td>\n",
       "      <td>60-116-b12-1</td>\n",
       "    </tr>\n",
       "  </tbody>\n",
       "</table>\n",
       "</div>"
      ],
      "text/plain": [
       "            shape_id line      route_id\n",
       "0  60-116-b12-1.56.O  116  60-116-b12-1\n",
       "1  60-116-b12-1.56.O  116  60-116-b12-1\n",
       "2  60-116-b12-1.56.O  116  60-116-b12-1\n",
       "3  60-116-b12-1.56.O  116  60-116-b12-1\n",
       "4  60-116-b12-1.56.O  116  60-116-b12-1"
      ]
     },
     "execution_count": 22,
     "metadata": {},
     "output_type": "execute_result"
    }
   ],
   "source": [
    "shapes_df.head()"
   ]
  },
  {
   "cell_type": "code",
   "execution_count": 23,
   "metadata": {},
   "outputs": [
    {
     "data": {
      "text/plain": [
       "(251080, 3)"
      ]
     },
     "execution_count": 23,
     "metadata": {},
     "output_type": "execute_result"
    }
   ],
   "source": [
    "shapes_df.shape"
   ]
  },
  {
   "cell_type": "code",
   "execution_count": 24,
   "metadata": {},
   "outputs": [],
   "source": [
    "shapes_df.drop_duplicates(inplace=True)"
   ]
  },
  {
   "cell_type": "code",
   "execution_count": 25,
   "metadata": {},
   "outputs": [
    {
     "data": {
      "text/plain": [
       "(719, 3)"
      ]
     },
     "execution_count": 25,
     "metadata": {},
     "output_type": "execute_result"
    }
   ],
   "source": [
    "shapes_df.shape"
   ]
  },
  {
   "cell_type": "code",
   "execution_count": 26,
   "metadata": {},
   "outputs": [
    {
     "data": {
      "text/html": [
       "<div>\n",
       "<style scoped>\n",
       "    .dataframe tbody tr th:only-of-type {\n",
       "        vertical-align: middle;\n",
       "    }\n",
       "\n",
       "    .dataframe tbody tr th {\n",
       "        vertical-align: top;\n",
       "    }\n",
       "\n",
       "    .dataframe thead th {\n",
       "        text-align: right;\n",
       "    }\n",
       "</style>\n",
       "<table border=\"1\" class=\"dataframe\">\n",
       "  <thead>\n",
       "    <tr style=\"text-align: right;\">\n",
       "      <th></th>\n",
       "      <th>shape_id</th>\n",
       "      <th>line</th>\n",
       "      <th>route_id</th>\n",
       "    </tr>\n",
       "  </thead>\n",
       "  <tbody>\n",
       "    <tr>\n",
       "      <th>0</th>\n",
       "      <td>60-116-b12-1.56.O</td>\n",
       "      <td>116</td>\n",
       "      <td>60-116-b12-1</td>\n",
       "    </tr>\n",
       "    <tr>\n",
       "      <th>273</th>\n",
       "      <td>60-116-b12-1.57.I</td>\n",
       "      <td>116</td>\n",
       "      <td>60-116-b12-1</td>\n",
       "    </tr>\n",
       "    <tr>\n",
       "      <th>656</th>\n",
       "      <td>60-116-d12-1.55.O</td>\n",
       "      <td>116</td>\n",
       "      <td>60-116-d12-1</td>\n",
       "    </tr>\n",
       "    <tr>\n",
       "      <th>929</th>\n",
       "      <td>60-116-d12-1.56.I</td>\n",
       "      <td>116</td>\n",
       "      <td>60-116-d12-1</td>\n",
       "    </tr>\n",
       "    <tr>\n",
       "      <th>1312</th>\n",
       "      <td>60-118-b12-1.58.I</td>\n",
       "      <td>118</td>\n",
       "      <td>60-118-b12-1</td>\n",
       "    </tr>\n",
       "  </tbody>\n",
       "</table>\n",
       "</div>"
      ],
      "text/plain": [
       "               shape_id line      route_id\n",
       "0     60-116-b12-1.56.O  116  60-116-b12-1\n",
       "273   60-116-b12-1.57.I  116  60-116-b12-1\n",
       "656   60-116-d12-1.55.O  116  60-116-d12-1\n",
       "929   60-116-d12-1.56.I  116  60-116-d12-1\n",
       "1312  60-118-b12-1.58.I  118  60-118-b12-1"
      ]
     },
     "execution_count": 26,
     "metadata": {},
     "output_type": "execute_result"
    }
   ],
   "source": [
    "shapes_df.head()"
   ]
  },
  {
   "cell_type": "markdown",
   "metadata": {},
   "source": [
    "<h3>Review Trips to find destination for a journey</h3>"
   ]
  },
  {
   "cell_type": "code",
   "execution_count": 27,
   "metadata": {},
   "outputs": [],
   "source": [
    "trips_df = pd.read_csv(\"trips.txt\")"
   ]
  },
  {
   "cell_type": "code",
   "execution_count": 28,
   "metadata": {},
   "outputs": [
    {
     "data": {
      "text/html": [
       "<div>\n",
       "<style scoped>\n",
       "    .dataframe tbody tr th:only-of-type {\n",
       "        vertical-align: middle;\n",
       "    }\n",
       "\n",
       "    .dataframe tbody tr th {\n",
       "        vertical-align: top;\n",
       "    }\n",
       "\n",
       "    .dataframe thead th {\n",
       "        text-align: right;\n",
       "    }\n",
       "</style>\n",
       "<table border=\"1\" class=\"dataframe\">\n",
       "  <thead>\n",
       "    <tr style=\"text-align: right;\">\n",
       "      <th></th>\n",
       "      <th>route_id</th>\n",
       "      <th>service_id</th>\n",
       "      <th>trip_id</th>\n",
       "      <th>shape_id</th>\n",
       "      <th>trip_headsign</th>\n",
       "      <th>direction_id</th>\n",
       "    </tr>\n",
       "  </thead>\n",
       "  <tbody>\n",
       "    <tr>\n",
       "      <th>0</th>\n",
       "      <td>60-116-b12-1</td>\n",
       "      <td>y1003</td>\n",
       "      <td>3736.y1003.60-116-b12-1.57.I</td>\n",
       "      <td>60-116-b12-1.57.I</td>\n",
       "      <td>Church of Our Lady of Good Council - Parnell S...</td>\n",
       "      <td>1</td>\n",
       "    </tr>\n",
       "    <tr>\n",
       "      <th>1</th>\n",
       "      <td>60-116-b12-1</td>\n",
       "      <td>y1003</td>\n",
       "      <td>3737.y1003.60-116-b12-1.56.O</td>\n",
       "      <td>60-116-b12-1.56.O</td>\n",
       "      <td>Sussex Road - Church of Our Lady of Good Council</td>\n",
       "      <td>0</td>\n",
       "    </tr>\n",
       "    <tr>\n",
       "      <th>2</th>\n",
       "      <td>60-116-d12-1</td>\n",
       "      <td>y1007</td>\n",
       "      <td>3736.y1007.60-116-d12-1.56.I</td>\n",
       "      <td>60-116-d12-1.56.I</td>\n",
       "      <td>Church of Our Lady of Good Council - Parnell S...</td>\n",
       "      <td>1</td>\n",
       "    </tr>\n",
       "    <tr>\n",
       "      <th>3</th>\n",
       "      <td>60-116-d12-1</td>\n",
       "      <td>y1007</td>\n",
       "      <td>3737.y1007.60-116-d12-1.55.O</td>\n",
       "      <td>60-116-d12-1.55.O</td>\n",
       "      <td>Sussex Road - Church of Our Lady of Good Council</td>\n",
       "      <td>0</td>\n",
       "    </tr>\n",
       "    <tr>\n",
       "      <th>4</th>\n",
       "      <td>60-118-b12-1</td>\n",
       "      <td>y1003</td>\n",
       "      <td>3770.y1003.60-118-b12-1.58.I</td>\n",
       "      <td>60-118-b12-1.58.I</td>\n",
       "      <td>Enniskerry Road (Ballycorus Rd) - Eden Quay</td>\n",
       "      <td>1</td>\n",
       "    </tr>\n",
       "  </tbody>\n",
       "</table>\n",
       "</div>"
      ],
      "text/plain": [
       "       route_id service_id                       trip_id           shape_id  \\\n",
       "0  60-116-b12-1      y1003  3736.y1003.60-116-b12-1.57.I  60-116-b12-1.57.I   \n",
       "1  60-116-b12-1      y1003  3737.y1003.60-116-b12-1.56.O  60-116-b12-1.56.O   \n",
       "2  60-116-d12-1      y1007  3736.y1007.60-116-d12-1.56.I  60-116-d12-1.56.I   \n",
       "3  60-116-d12-1      y1007  3737.y1007.60-116-d12-1.55.O  60-116-d12-1.55.O   \n",
       "4  60-118-b12-1      y1003  3770.y1003.60-118-b12-1.58.I  60-118-b12-1.58.I   \n",
       "\n",
       "                                       trip_headsign  direction_id  \n",
       "0  Church of Our Lady of Good Council - Parnell S...             1  \n",
       "1   Sussex Road - Church of Our Lady of Good Council             0  \n",
       "2  Church of Our Lady of Good Council - Parnell S...             1  \n",
       "3   Sussex Road - Church of Our Lady of Good Council             0  \n",
       "4        Enniskerry Road (Ballycorus Rd) - Eden Quay             1  "
      ]
     },
     "execution_count": 28,
     "metadata": {},
     "output_type": "execute_result"
    }
   ],
   "source": [
    "trips_df.head()"
   ]
  },
  {
   "cell_type": "code",
   "execution_count": 29,
   "metadata": {},
   "outputs": [],
   "source": [
    "trips_df.drop([\"service_id\", \"trip_id\", \"shape_id\"], axis=1, inplace=True)"
   ]
  },
  {
   "cell_type": "code",
   "execution_count": 30,
   "metadata": {},
   "outputs": [
    {
     "data": {
      "text/html": [
       "<div>\n",
       "<style scoped>\n",
       "    .dataframe tbody tr th:only-of-type {\n",
       "        vertical-align: middle;\n",
       "    }\n",
       "\n",
       "    .dataframe tbody tr th {\n",
       "        vertical-align: top;\n",
       "    }\n",
       "\n",
       "    .dataframe thead th {\n",
       "        text-align: right;\n",
       "    }\n",
       "</style>\n",
       "<table border=\"1\" class=\"dataframe\">\n",
       "  <thead>\n",
       "    <tr style=\"text-align: right;\">\n",
       "      <th></th>\n",
       "      <th>route_id</th>\n",
       "      <th>trip_headsign</th>\n",
       "      <th>direction_id</th>\n",
       "    </tr>\n",
       "  </thead>\n",
       "  <tbody>\n",
       "    <tr>\n",
       "      <th>0</th>\n",
       "      <td>60-116-b12-1</td>\n",
       "      <td>Church of Our Lady of Good Council - Parnell S...</td>\n",
       "      <td>1</td>\n",
       "    </tr>\n",
       "    <tr>\n",
       "      <th>1</th>\n",
       "      <td>60-116-b12-1</td>\n",
       "      <td>Sussex Road - Church of Our Lady of Good Council</td>\n",
       "      <td>0</td>\n",
       "    </tr>\n",
       "    <tr>\n",
       "      <th>2</th>\n",
       "      <td>60-116-d12-1</td>\n",
       "      <td>Church of Our Lady of Good Council - Parnell S...</td>\n",
       "      <td>1</td>\n",
       "    </tr>\n",
       "    <tr>\n",
       "      <th>3</th>\n",
       "      <td>60-116-d12-1</td>\n",
       "      <td>Sussex Road - Church of Our Lady of Good Council</td>\n",
       "      <td>0</td>\n",
       "    </tr>\n",
       "    <tr>\n",
       "      <th>4</th>\n",
       "      <td>60-118-b12-1</td>\n",
       "      <td>Enniskerry Road (Ballycorus Rd) - Eden Quay</td>\n",
       "      <td>1</td>\n",
       "    </tr>\n",
       "  </tbody>\n",
       "</table>\n",
       "</div>"
      ],
      "text/plain": [
       "       route_id                                      trip_headsign  \\\n",
       "0  60-116-b12-1  Church of Our Lady of Good Council - Parnell S...   \n",
       "1  60-116-b12-1   Sussex Road - Church of Our Lady of Good Council   \n",
       "2  60-116-d12-1  Church of Our Lady of Good Council - Parnell S...   \n",
       "3  60-116-d12-1   Sussex Road - Church of Our Lady of Good Council   \n",
       "4  60-118-b12-1        Enniskerry Road (Ballycorus Rd) - Eden Quay   \n",
       "\n",
       "   direction_id  \n",
       "0             1  \n",
       "1             0  \n",
       "2             1  \n",
       "3             0  \n",
       "4             1  "
      ]
     },
     "execution_count": 30,
     "metadata": {},
     "output_type": "execute_result"
    }
   ],
   "source": [
    "trips_df.head()"
   ]
  },
  {
   "cell_type": "code",
   "execution_count": 31,
   "metadata": {},
   "outputs": [
    {
     "data": {
      "text/plain": [
       "(32683, 3)"
      ]
     },
     "execution_count": 31,
     "metadata": {},
     "output_type": "execute_result"
    }
   ],
   "source": [
    "trips_df.shape"
   ]
  },
  {
   "cell_type": "code",
   "execution_count": 32,
   "metadata": {},
   "outputs": [],
   "source": [
    "trips_df.drop_duplicates(inplace=True)"
   ]
  },
  {
   "cell_type": "code",
   "execution_count": 33,
   "metadata": {},
   "outputs": [
    {
     "data": {
      "text/plain": [
       "(394, 3)"
      ]
     },
     "execution_count": 33,
     "metadata": {},
     "output_type": "execute_result"
    }
   ],
   "source": [
    "trips_df.shape"
   ]
  },
  {
   "cell_type": "code",
   "execution_count": 34,
   "metadata": {},
   "outputs": [],
   "source": [
    "trips_lines_merged = trips_df.merge(line_ids, how=\"left\", on=\"route_id\")"
   ]
  },
  {
   "cell_type": "code",
   "execution_count": 35,
   "metadata": {},
   "outputs": [
    {
     "data": {
      "text/html": [
       "<div>\n",
       "<style scoped>\n",
       "    .dataframe tbody tr th:only-of-type {\n",
       "        vertical-align: middle;\n",
       "    }\n",
       "\n",
       "    .dataframe tbody tr th {\n",
       "        vertical-align: top;\n",
       "    }\n",
       "\n",
       "    .dataframe thead th {\n",
       "        text-align: right;\n",
       "    }\n",
       "</style>\n",
       "<table border=\"1\" class=\"dataframe\">\n",
       "  <thead>\n",
       "    <tr style=\"text-align: right;\">\n",
       "      <th></th>\n",
       "      <th>route_id</th>\n",
       "      <th>trip_headsign</th>\n",
       "      <th>direction_id</th>\n",
       "      <th>line</th>\n",
       "    </tr>\n",
       "  </thead>\n",
       "  <tbody>\n",
       "    <tr>\n",
       "      <th>0</th>\n",
       "      <td>60-116-b12-1</td>\n",
       "      <td>Church of Our Lady of Good Council - Parnell S...</td>\n",
       "      <td>1</td>\n",
       "      <td>116</td>\n",
       "    </tr>\n",
       "    <tr>\n",
       "      <th>1</th>\n",
       "      <td>60-116-b12-1</td>\n",
       "      <td>Sussex Road - Church of Our Lady of Good Council</td>\n",
       "      <td>0</td>\n",
       "      <td>116</td>\n",
       "    </tr>\n",
       "    <tr>\n",
       "      <th>2</th>\n",
       "      <td>60-116-d12-1</td>\n",
       "      <td>Church of Our Lady of Good Council - Parnell S...</td>\n",
       "      <td>1</td>\n",
       "      <td>116</td>\n",
       "    </tr>\n",
       "    <tr>\n",
       "      <th>3</th>\n",
       "      <td>60-116-d12-1</td>\n",
       "      <td>Sussex Road - Church of Our Lady of Good Council</td>\n",
       "      <td>0</td>\n",
       "      <td>116</td>\n",
       "    </tr>\n",
       "    <tr>\n",
       "      <th>4</th>\n",
       "      <td>60-118-b12-1</td>\n",
       "      <td>Enniskerry Road (Ballycorus Rd) - Eden Quay</td>\n",
       "      <td>1</td>\n",
       "      <td>118</td>\n",
       "    </tr>\n",
       "  </tbody>\n",
       "</table>\n",
       "</div>"
      ],
      "text/plain": [
       "       route_id                                      trip_headsign  \\\n",
       "0  60-116-b12-1  Church of Our Lady of Good Council - Parnell S...   \n",
       "1  60-116-b12-1   Sussex Road - Church of Our Lady of Good Council   \n",
       "2  60-116-d12-1  Church of Our Lady of Good Council - Parnell S...   \n",
       "3  60-116-d12-1   Sussex Road - Church of Our Lady of Good Council   \n",
       "4  60-118-b12-1        Enniskerry Road (Ballycorus Rd) - Eden Quay   \n",
       "\n",
       "   direction_id line  \n",
       "0             1  116  \n",
       "1             0  116  \n",
       "2             1  116  \n",
       "3             0  116  \n",
       "4             1  118  "
      ]
     },
     "execution_count": 35,
     "metadata": {},
     "output_type": "execute_result"
    }
   ],
   "source": [
    "trips_lines_merged.head()"
   ]
  },
  {
   "cell_type": "code",
   "execution_count": 36,
   "metadata": {},
   "outputs": [
    {
     "data": {
      "text/plain": [
       "(394, 4)"
      ]
     },
     "execution_count": 36,
     "metadata": {},
     "output_type": "execute_result"
    }
   ],
   "source": [
    "trips_lines_merged.shape"
   ]
  },
  {
   "cell_type": "code",
   "execution_count": 37,
   "metadata": {},
   "outputs": [
    {
     "data": {
      "text/plain": [
       "route_id         0\n",
       "trip_headsign    0\n",
       "direction_id     0\n",
       "line             0\n",
       "dtype: int64"
      ]
     },
     "execution_count": 37,
     "metadata": {},
     "output_type": "execute_result"
    }
   ],
   "source": [
    "trips_lines_merged.isna().sum()"
   ]
  },
  {
   "cell_type": "markdown",
   "metadata": {},
   "source": [
    "<h3>Find stops per route using stop_times.txt</h3>"
   ]
  },
  {
   "cell_type": "code",
   "execution_count": 41,
   "metadata": {},
   "outputs": [],
   "source": [
    "stop_times_df = pd.read_csv(\"stop_times.txt\")"
   ]
  },
  {
   "cell_type": "code",
   "execution_count": 42,
   "metadata": {},
   "outputs": [
    {
     "data": {
      "text/html": [
       "<div>\n",
       "<style scoped>\n",
       "    .dataframe tbody tr th:only-of-type {\n",
       "        vertical-align: middle;\n",
       "    }\n",
       "\n",
       "    .dataframe tbody tr th {\n",
       "        vertical-align: top;\n",
       "    }\n",
       "\n",
       "    .dataframe thead th {\n",
       "        text-align: right;\n",
       "    }\n",
       "</style>\n",
       "<table border=\"1\" class=\"dataframe\">\n",
       "  <thead>\n",
       "    <tr style=\"text-align: right;\">\n",
       "      <th></th>\n",
       "      <th>trip_id</th>\n",
       "      <th>arrival_time</th>\n",
       "      <th>departure_time</th>\n",
       "      <th>stop_id</th>\n",
       "      <th>stop_sequence</th>\n",
       "      <th>stop_headsign</th>\n",
       "      <th>pickup_type</th>\n",
       "      <th>drop_off_type</th>\n",
       "      <th>shape_dist_traveled</th>\n",
       "    </tr>\n",
       "  </thead>\n",
       "  <tbody>\n",
       "    <tr>\n",
       "      <th>0</th>\n",
       "      <td>7712.y1009.60-1-d12-1.1.O</td>\n",
       "      <td>18:40:00</td>\n",
       "      <td>18:40:00</td>\n",
       "      <td>8240DB000226</td>\n",
       "      <td>1</td>\n",
       "      <td>Sandymount</td>\n",
       "      <td>0</td>\n",
       "      <td>0</td>\n",
       "      <td>0.00</td>\n",
       "    </tr>\n",
       "    <tr>\n",
       "      <th>1</th>\n",
       "      <td>7712.y1009.60-1-d12-1.1.O</td>\n",
       "      <td>18:40:44</td>\n",
       "      <td>18:40:44</td>\n",
       "      <td>8220DB000228</td>\n",
       "      <td>2</td>\n",
       "      <td>Sandymount</td>\n",
       "      <td>0</td>\n",
       "      <td>0</td>\n",
       "      <td>267.48</td>\n",
       "    </tr>\n",
       "    <tr>\n",
       "      <th>2</th>\n",
       "      <td>7712.y1009.60-1-d12-1.1.O</td>\n",
       "      <td>18:41:21</td>\n",
       "      <td>18:41:21</td>\n",
       "      <td>8240DB000229</td>\n",
       "      <td>3</td>\n",
       "      <td>Sandymount</td>\n",
       "      <td>0</td>\n",
       "      <td>0</td>\n",
       "      <td>483.53</td>\n",
       "    </tr>\n",
       "    <tr>\n",
       "      <th>3</th>\n",
       "      <td>7712.y1009.60-1-d12-1.1.O</td>\n",
       "      <td>18:42:20</td>\n",
       "      <td>18:42:20</td>\n",
       "      <td>8240DB000227</td>\n",
       "      <td>4</td>\n",
       "      <td>Sandymount</td>\n",
       "      <td>0</td>\n",
       "      <td>0</td>\n",
       "      <td>834.47</td>\n",
       "    </tr>\n",
       "    <tr>\n",
       "      <th>4</th>\n",
       "      <td>7712.y1009.60-1-d12-1.1.O</td>\n",
       "      <td>18:42:58</td>\n",
       "      <td>18:42:58</td>\n",
       "      <td>8240DB000230</td>\n",
       "      <td>5</td>\n",
       "      <td>Sandymount</td>\n",
       "      <td>0</td>\n",
       "      <td>0</td>\n",
       "      <td>1063.49</td>\n",
       "    </tr>\n",
       "  </tbody>\n",
       "</table>\n",
       "</div>"
      ],
      "text/plain": [
       "                     trip_id arrival_time departure_time       stop_id  \\\n",
       "0  7712.y1009.60-1-d12-1.1.O     18:40:00       18:40:00  8240DB000226   \n",
       "1  7712.y1009.60-1-d12-1.1.O     18:40:44       18:40:44  8220DB000228   \n",
       "2  7712.y1009.60-1-d12-1.1.O     18:41:21       18:41:21  8240DB000229   \n",
       "3  7712.y1009.60-1-d12-1.1.O     18:42:20       18:42:20  8240DB000227   \n",
       "4  7712.y1009.60-1-d12-1.1.O     18:42:58       18:42:58  8240DB000230   \n",
       "\n",
       "   stop_sequence stop_headsign  pickup_type  drop_off_type  \\\n",
       "0              1    Sandymount            0              0   \n",
       "1              2    Sandymount            0              0   \n",
       "2              3    Sandymount            0              0   \n",
       "3              4    Sandymount            0              0   \n",
       "4              5    Sandymount            0              0   \n",
       "\n",
       "   shape_dist_traveled  \n",
       "0                 0.00  \n",
       "1               267.48  \n",
       "2               483.53  \n",
       "3               834.47  \n",
       "4              1063.49  "
      ]
     },
     "execution_count": 42,
     "metadata": {},
     "output_type": "execute_result"
    }
   ],
   "source": [
    "stop_times_df.head()"
   ]
  },
  {
   "cell_type": "code",
   "execution_count": 43,
   "metadata": {},
   "outputs": [
    {
     "data": {
      "text/plain": [
       "array([0, 1], dtype=int64)"
      ]
     },
     "execution_count": 43,
     "metadata": {},
     "output_type": "execute_result"
    }
   ],
   "source": [
    "stop_times_df.drop_off_type.unique()"
   ]
  },
  {
   "cell_type": "code",
   "execution_count": 44,
   "metadata": {},
   "outputs": [
    {
     "data": {
      "text/plain": [
       "array([0, 1], dtype=int64)"
      ]
     },
     "execution_count": 44,
     "metadata": {},
     "output_type": "execute_result"
    }
   ],
   "source": [
    "stop_times_df.pickup_type.unique()"
   ]
  },
  {
   "cell_type": "code",
   "execution_count": 45,
   "metadata": {},
   "outputs": [],
   "source": [
    "stop_times_df.drop([\"pickup_type\", \"drop_off_type\"], axis=1, inplace=True)"
   ]
  },
  {
   "cell_type": "code",
   "execution_count": 46,
   "metadata": {},
   "outputs": [
    {
     "data": {
      "text/html": [
       "<div>\n",
       "<style scoped>\n",
       "    .dataframe tbody tr th:only-of-type {\n",
       "        vertical-align: middle;\n",
       "    }\n",
       "\n",
       "    .dataframe tbody tr th {\n",
       "        vertical-align: top;\n",
       "    }\n",
       "\n",
       "    .dataframe thead th {\n",
       "        text-align: right;\n",
       "    }\n",
       "</style>\n",
       "<table border=\"1\" class=\"dataframe\">\n",
       "  <thead>\n",
       "    <tr style=\"text-align: right;\">\n",
       "      <th></th>\n",
       "      <th>trip_id</th>\n",
       "      <th>arrival_time</th>\n",
       "      <th>departure_time</th>\n",
       "      <th>stop_id</th>\n",
       "      <th>stop_sequence</th>\n",
       "      <th>stop_headsign</th>\n",
       "      <th>shape_dist_traveled</th>\n",
       "    </tr>\n",
       "  </thead>\n",
       "  <tbody>\n",
       "    <tr>\n",
       "      <th>0</th>\n",
       "      <td>7712.y1009.60-1-d12-1.1.O</td>\n",
       "      <td>18:40:00</td>\n",
       "      <td>18:40:00</td>\n",
       "      <td>8240DB000226</td>\n",
       "      <td>1</td>\n",
       "      <td>Sandymount</td>\n",
       "      <td>0.00</td>\n",
       "    </tr>\n",
       "    <tr>\n",
       "      <th>1</th>\n",
       "      <td>7712.y1009.60-1-d12-1.1.O</td>\n",
       "      <td>18:40:44</td>\n",
       "      <td>18:40:44</td>\n",
       "      <td>8220DB000228</td>\n",
       "      <td>2</td>\n",
       "      <td>Sandymount</td>\n",
       "      <td>267.48</td>\n",
       "    </tr>\n",
       "    <tr>\n",
       "      <th>2</th>\n",
       "      <td>7712.y1009.60-1-d12-1.1.O</td>\n",
       "      <td>18:41:21</td>\n",
       "      <td>18:41:21</td>\n",
       "      <td>8240DB000229</td>\n",
       "      <td>3</td>\n",
       "      <td>Sandymount</td>\n",
       "      <td>483.53</td>\n",
       "    </tr>\n",
       "    <tr>\n",
       "      <th>3</th>\n",
       "      <td>7712.y1009.60-1-d12-1.1.O</td>\n",
       "      <td>18:42:20</td>\n",
       "      <td>18:42:20</td>\n",
       "      <td>8240DB000227</td>\n",
       "      <td>4</td>\n",
       "      <td>Sandymount</td>\n",
       "      <td>834.47</td>\n",
       "    </tr>\n",
       "    <tr>\n",
       "      <th>4</th>\n",
       "      <td>7712.y1009.60-1-d12-1.1.O</td>\n",
       "      <td>18:42:58</td>\n",
       "      <td>18:42:58</td>\n",
       "      <td>8240DB000230</td>\n",
       "      <td>5</td>\n",
       "      <td>Sandymount</td>\n",
       "      <td>1063.49</td>\n",
       "    </tr>\n",
       "  </tbody>\n",
       "</table>\n",
       "</div>"
      ],
      "text/plain": [
       "                     trip_id arrival_time departure_time       stop_id  \\\n",
       "0  7712.y1009.60-1-d12-1.1.O     18:40:00       18:40:00  8240DB000226   \n",
       "1  7712.y1009.60-1-d12-1.1.O     18:40:44       18:40:44  8220DB000228   \n",
       "2  7712.y1009.60-1-d12-1.1.O     18:41:21       18:41:21  8240DB000229   \n",
       "3  7712.y1009.60-1-d12-1.1.O     18:42:20       18:42:20  8240DB000227   \n",
       "4  7712.y1009.60-1-d12-1.1.O     18:42:58       18:42:58  8240DB000230   \n",
       "\n",
       "   stop_sequence stop_headsign  shape_dist_traveled  \n",
       "0              1    Sandymount                 0.00  \n",
       "1              2    Sandymount               267.48  \n",
       "2              3    Sandymount               483.53  \n",
       "3              4    Sandymount               834.47  \n",
       "4              5    Sandymount              1063.49  "
      ]
     },
     "execution_count": 46,
     "metadata": {},
     "output_type": "execute_result"
    }
   ],
   "source": [
    "stop_times_df.head()"
   ]
  },
  {
   "cell_type": "code",
   "execution_count": 47,
   "metadata": {},
   "outputs": [],
   "source": [
    "stop_times_df[\"route_id\"] = stop_times_df.apply(lambda row: row.trip_id.split(\".\")[2], axis=1)"
   ]
  },
  {
   "cell_type": "code",
   "execution_count": 48,
   "metadata": {},
   "outputs": [
    {
     "data": {
      "text/html": [
       "<div>\n",
       "<style scoped>\n",
       "    .dataframe tbody tr th:only-of-type {\n",
       "        vertical-align: middle;\n",
       "    }\n",
       "\n",
       "    .dataframe tbody tr th {\n",
       "        vertical-align: top;\n",
       "    }\n",
       "\n",
       "    .dataframe thead th {\n",
       "        text-align: right;\n",
       "    }\n",
       "</style>\n",
       "<table border=\"1\" class=\"dataframe\">\n",
       "  <thead>\n",
       "    <tr style=\"text-align: right;\">\n",
       "      <th></th>\n",
       "      <th>trip_id</th>\n",
       "      <th>arrival_time</th>\n",
       "      <th>departure_time</th>\n",
       "      <th>stop_id</th>\n",
       "      <th>stop_sequence</th>\n",
       "      <th>stop_headsign</th>\n",
       "      <th>shape_dist_traveled</th>\n",
       "      <th>route_id</th>\n",
       "    </tr>\n",
       "  </thead>\n",
       "  <tbody>\n",
       "    <tr>\n",
       "      <th>0</th>\n",
       "      <td>7712.y1009.60-1-d12-1.1.O</td>\n",
       "      <td>18:40:00</td>\n",
       "      <td>18:40:00</td>\n",
       "      <td>8240DB000226</td>\n",
       "      <td>1</td>\n",
       "      <td>Sandymount</td>\n",
       "      <td>0.00</td>\n",
       "      <td>60-1-d12-1</td>\n",
       "    </tr>\n",
       "    <tr>\n",
       "      <th>1</th>\n",
       "      <td>7712.y1009.60-1-d12-1.1.O</td>\n",
       "      <td>18:40:44</td>\n",
       "      <td>18:40:44</td>\n",
       "      <td>8220DB000228</td>\n",
       "      <td>2</td>\n",
       "      <td>Sandymount</td>\n",
       "      <td>267.48</td>\n",
       "      <td>60-1-d12-1</td>\n",
       "    </tr>\n",
       "    <tr>\n",
       "      <th>2</th>\n",
       "      <td>7712.y1009.60-1-d12-1.1.O</td>\n",
       "      <td>18:41:21</td>\n",
       "      <td>18:41:21</td>\n",
       "      <td>8240DB000229</td>\n",
       "      <td>3</td>\n",
       "      <td>Sandymount</td>\n",
       "      <td>483.53</td>\n",
       "      <td>60-1-d12-1</td>\n",
       "    </tr>\n",
       "    <tr>\n",
       "      <th>3</th>\n",
       "      <td>7712.y1009.60-1-d12-1.1.O</td>\n",
       "      <td>18:42:20</td>\n",
       "      <td>18:42:20</td>\n",
       "      <td>8240DB000227</td>\n",
       "      <td>4</td>\n",
       "      <td>Sandymount</td>\n",
       "      <td>834.47</td>\n",
       "      <td>60-1-d12-1</td>\n",
       "    </tr>\n",
       "    <tr>\n",
       "      <th>4</th>\n",
       "      <td>7712.y1009.60-1-d12-1.1.O</td>\n",
       "      <td>18:42:58</td>\n",
       "      <td>18:42:58</td>\n",
       "      <td>8240DB000230</td>\n",
       "      <td>5</td>\n",
       "      <td>Sandymount</td>\n",
       "      <td>1063.49</td>\n",
       "      <td>60-1-d12-1</td>\n",
       "    </tr>\n",
       "  </tbody>\n",
       "</table>\n",
       "</div>"
      ],
      "text/plain": [
       "                     trip_id arrival_time departure_time       stop_id  \\\n",
       "0  7712.y1009.60-1-d12-1.1.O     18:40:00       18:40:00  8240DB000226   \n",
       "1  7712.y1009.60-1-d12-1.1.O     18:40:44       18:40:44  8220DB000228   \n",
       "2  7712.y1009.60-1-d12-1.1.O     18:41:21       18:41:21  8240DB000229   \n",
       "3  7712.y1009.60-1-d12-1.1.O     18:42:20       18:42:20  8240DB000227   \n",
       "4  7712.y1009.60-1-d12-1.1.O     18:42:58       18:42:58  8240DB000230   \n",
       "\n",
       "   stop_sequence stop_headsign  shape_dist_traveled    route_id  \n",
       "0              1    Sandymount                 0.00  60-1-d12-1  \n",
       "1              2    Sandymount               267.48  60-1-d12-1  \n",
       "2              3    Sandymount               483.53  60-1-d12-1  \n",
       "3              4    Sandymount               834.47  60-1-d12-1  \n",
       "4              5    Sandymount              1063.49  60-1-d12-1  "
      ]
     },
     "execution_count": 48,
     "metadata": {},
     "output_type": "execute_result"
    }
   ],
   "source": [
    "stop_times_df.head()"
   ]
  },
  {
   "cell_type": "code",
   "execution_count": 49,
   "metadata": {},
   "outputs": [
    {
     "data": {
      "text/plain": [
       "(1874919, 8)"
      ]
     },
     "execution_count": 49,
     "metadata": {},
     "output_type": "execute_result"
    }
   ],
   "source": [
    "stop_times_df.shape"
   ]
  },
  {
   "cell_type": "code",
   "execution_count": 50,
   "metadata": {},
   "outputs": [],
   "source": [
    "stop_times_df.drop([\"trip_id\", \"arrival_time\", \"departure_time\", \"stop_headsign\", \"shape_dist_traveled\"], axis=1, inplace=True)"
   ]
  },
  {
   "cell_type": "code",
   "execution_count": 51,
   "metadata": {},
   "outputs": [
    {
     "data": {
      "text/html": [
       "<div>\n",
       "<style scoped>\n",
       "    .dataframe tbody tr th:only-of-type {\n",
       "        vertical-align: middle;\n",
       "    }\n",
       "\n",
       "    .dataframe tbody tr th {\n",
       "        vertical-align: top;\n",
       "    }\n",
       "\n",
       "    .dataframe thead th {\n",
       "        text-align: right;\n",
       "    }\n",
       "</style>\n",
       "<table border=\"1\" class=\"dataframe\">\n",
       "  <thead>\n",
       "    <tr style=\"text-align: right;\">\n",
       "      <th></th>\n",
       "      <th>stop_id</th>\n",
       "      <th>stop_sequence</th>\n",
       "      <th>route_id</th>\n",
       "    </tr>\n",
       "  </thead>\n",
       "  <tbody>\n",
       "    <tr>\n",
       "      <th>0</th>\n",
       "      <td>8240DB000226</td>\n",
       "      <td>1</td>\n",
       "      <td>60-1-d12-1</td>\n",
       "    </tr>\n",
       "    <tr>\n",
       "      <th>1</th>\n",
       "      <td>8220DB000228</td>\n",
       "      <td>2</td>\n",
       "      <td>60-1-d12-1</td>\n",
       "    </tr>\n",
       "    <tr>\n",
       "      <th>2</th>\n",
       "      <td>8240DB000229</td>\n",
       "      <td>3</td>\n",
       "      <td>60-1-d12-1</td>\n",
       "    </tr>\n",
       "    <tr>\n",
       "      <th>3</th>\n",
       "      <td>8240DB000227</td>\n",
       "      <td>4</td>\n",
       "      <td>60-1-d12-1</td>\n",
       "    </tr>\n",
       "    <tr>\n",
       "      <th>4</th>\n",
       "      <td>8240DB000230</td>\n",
       "      <td>5</td>\n",
       "      <td>60-1-d12-1</td>\n",
       "    </tr>\n",
       "  </tbody>\n",
       "</table>\n",
       "</div>"
      ],
      "text/plain": [
       "        stop_id  stop_sequence    route_id\n",
       "0  8240DB000226              1  60-1-d12-1\n",
       "1  8220DB000228              2  60-1-d12-1\n",
       "2  8240DB000229              3  60-1-d12-1\n",
       "3  8240DB000227              4  60-1-d12-1\n",
       "4  8240DB000230              5  60-1-d12-1"
      ]
     },
     "execution_count": 51,
     "metadata": {},
     "output_type": "execute_result"
    }
   ],
   "source": [
    "stop_times_df.head()"
   ]
  },
  {
   "cell_type": "code",
   "execution_count": 52,
   "metadata": {},
   "outputs": [],
   "source": [
    "stop_times_df[\"stop_short\"] = stop_times_df.apply(lambda row: row.stop_id[-4:], axis=1)"
   ]
  },
  {
   "cell_type": "code",
   "execution_count": 53,
   "metadata": {},
   "outputs": [],
   "source": [
    "stop_times_df.drop([\"stop_id\"], axis=1, inplace=True)"
   ]
  },
  {
   "cell_type": "code",
   "execution_count": 54,
   "metadata": {},
   "outputs": [
    {
     "data": {
      "text/html": [
       "<div>\n",
       "<style scoped>\n",
       "    .dataframe tbody tr th:only-of-type {\n",
       "        vertical-align: middle;\n",
       "    }\n",
       "\n",
       "    .dataframe tbody tr th {\n",
       "        vertical-align: top;\n",
       "    }\n",
       "\n",
       "    .dataframe thead th {\n",
       "        text-align: right;\n",
       "    }\n",
       "</style>\n",
       "<table border=\"1\" class=\"dataframe\">\n",
       "  <thead>\n",
       "    <tr style=\"text-align: right;\">\n",
       "      <th></th>\n",
       "      <th>stop_sequence</th>\n",
       "      <th>route_id</th>\n",
       "      <th>stop_short</th>\n",
       "    </tr>\n",
       "  </thead>\n",
       "  <tbody>\n",
       "    <tr>\n",
       "      <th>0</th>\n",
       "      <td>1</td>\n",
       "      <td>60-1-d12-1</td>\n",
       "      <td>0226</td>\n",
       "    </tr>\n",
       "    <tr>\n",
       "      <th>1</th>\n",
       "      <td>2</td>\n",
       "      <td>60-1-d12-1</td>\n",
       "      <td>0228</td>\n",
       "    </tr>\n",
       "    <tr>\n",
       "      <th>2</th>\n",
       "      <td>3</td>\n",
       "      <td>60-1-d12-1</td>\n",
       "      <td>0229</td>\n",
       "    </tr>\n",
       "    <tr>\n",
       "      <th>3</th>\n",
       "      <td>4</td>\n",
       "      <td>60-1-d12-1</td>\n",
       "      <td>0227</td>\n",
       "    </tr>\n",
       "    <tr>\n",
       "      <th>4</th>\n",
       "      <td>5</td>\n",
       "      <td>60-1-d12-1</td>\n",
       "      <td>0230</td>\n",
       "    </tr>\n",
       "  </tbody>\n",
       "</table>\n",
       "</div>"
      ],
      "text/plain": [
       "   stop_sequence    route_id stop_short\n",
       "0              1  60-1-d12-1       0226\n",
       "1              2  60-1-d12-1       0228\n",
       "2              3  60-1-d12-1       0229\n",
       "3              4  60-1-d12-1       0227\n",
       "4              5  60-1-d12-1       0230"
      ]
     },
     "execution_count": 54,
     "metadata": {},
     "output_type": "execute_result"
    }
   ],
   "source": [
    "stop_times_df.head()"
   ]
  },
  {
   "cell_type": "code",
   "execution_count": 55,
   "metadata": {},
   "outputs": [],
   "source": [
    "stop_times_df.drop_duplicates(inplace=True)"
   ]
  },
  {
   "cell_type": "code",
   "execution_count": 56,
   "metadata": {},
   "outputs": [
    {
     "data": {
      "text/plain": [
       "(27203, 3)"
      ]
     },
     "execution_count": 56,
     "metadata": {},
     "output_type": "execute_result"
    }
   ],
   "source": [
    "stop_times_df.shape"
   ]
  },
  {
   "cell_type": "code",
   "execution_count": 57,
   "metadata": {},
   "outputs": [],
   "source": [
    "stop_times_merged = stop_times_df.merge(trips_lines_merged, how=\"left\", on=\"route_id\")"
   ]
  },
  {
   "cell_type": "code",
   "execution_count": 58,
   "metadata": {},
   "outputs": [
    {
     "data": {
      "text/html": [
       "<div>\n",
       "<style scoped>\n",
       "    .dataframe tbody tr th:only-of-type {\n",
       "        vertical-align: middle;\n",
       "    }\n",
       "\n",
       "    .dataframe tbody tr th {\n",
       "        vertical-align: top;\n",
       "    }\n",
       "\n",
       "    .dataframe thead th {\n",
       "        text-align: right;\n",
       "    }\n",
       "</style>\n",
       "<table border=\"1\" class=\"dataframe\">\n",
       "  <thead>\n",
       "    <tr style=\"text-align: right;\">\n",
       "      <th></th>\n",
       "      <th>stop_sequence</th>\n",
       "      <th>route_id</th>\n",
       "      <th>stop_short</th>\n",
       "      <th>trip_headsign</th>\n",
       "      <th>direction_id</th>\n",
       "      <th>line</th>\n",
       "    </tr>\n",
       "  </thead>\n",
       "  <tbody>\n",
       "    <tr>\n",
       "      <th>0</th>\n",
       "      <td>1</td>\n",
       "      <td>60-1-d12-1</td>\n",
       "      <td>0226</td>\n",
       "      <td>Shanard Road (Shanard Avenue) - Saint John's C...</td>\n",
       "      <td>0</td>\n",
       "      <td>1</td>\n",
       "    </tr>\n",
       "    <tr>\n",
       "      <th>1</th>\n",
       "      <td>1</td>\n",
       "      <td>60-1-d12-1</td>\n",
       "      <td>0226</td>\n",
       "      <td>Saint John's Church - Shanard Road (Shanard Av...</td>\n",
       "      <td>1</td>\n",
       "      <td>1</td>\n",
       "    </tr>\n",
       "    <tr>\n",
       "      <th>2</th>\n",
       "      <td>2</td>\n",
       "      <td>60-1-d12-1</td>\n",
       "      <td>0228</td>\n",
       "      <td>Shanard Road (Shanard Avenue) - Saint John's C...</td>\n",
       "      <td>0</td>\n",
       "      <td>1</td>\n",
       "    </tr>\n",
       "    <tr>\n",
       "      <th>3</th>\n",
       "      <td>2</td>\n",
       "      <td>60-1-d12-1</td>\n",
       "      <td>0228</td>\n",
       "      <td>Saint John's Church - Shanard Road (Shanard Av...</td>\n",
       "      <td>1</td>\n",
       "      <td>1</td>\n",
       "    </tr>\n",
       "    <tr>\n",
       "      <th>4</th>\n",
       "      <td>3</td>\n",
       "      <td>60-1-d12-1</td>\n",
       "      <td>0229</td>\n",
       "      <td>Shanard Road (Shanard Avenue) - Saint John's C...</td>\n",
       "      <td>0</td>\n",
       "      <td>1</td>\n",
       "    </tr>\n",
       "  </tbody>\n",
       "</table>\n",
       "</div>"
      ],
      "text/plain": [
       "   stop_sequence    route_id stop_short  \\\n",
       "0              1  60-1-d12-1       0226   \n",
       "1              1  60-1-d12-1       0226   \n",
       "2              2  60-1-d12-1       0228   \n",
       "3              2  60-1-d12-1       0228   \n",
       "4              3  60-1-d12-1       0229   \n",
       "\n",
       "                                       trip_headsign  direction_id line  \n",
       "0  Shanard Road (Shanard Avenue) - Saint John's C...             0    1  \n",
       "1  Saint John's Church - Shanard Road (Shanard Av...             1    1  \n",
       "2  Shanard Road (Shanard Avenue) - Saint John's C...             0    1  \n",
       "3  Saint John's Church - Shanard Road (Shanard Av...             1    1  \n",
       "4  Shanard Road (Shanard Avenue) - Saint John's C...             0    1  "
      ]
     },
     "execution_count": 58,
     "metadata": {},
     "output_type": "execute_result"
    }
   ],
   "source": [
    "stop_times_merged.head()"
   ]
  },
  {
   "cell_type": "markdown",
   "metadata": {},
   "source": [
    "<h3>Add in stop information</h3>"
   ]
  },
  {
   "cell_type": "code",
   "execution_count": 59,
   "metadata": {},
   "outputs": [],
   "source": [
    "stops_df = pd.read_csv(\"stops.txt\")"
   ]
  },
  {
   "cell_type": "code",
   "execution_count": 60,
   "metadata": {},
   "outputs": [
    {
     "data": {
      "text/html": [
       "<div>\n",
       "<style scoped>\n",
       "    .dataframe tbody tr th:only-of-type {\n",
       "        vertical-align: middle;\n",
       "    }\n",
       "\n",
       "    .dataframe tbody tr th {\n",
       "        vertical-align: top;\n",
       "    }\n",
       "\n",
       "    .dataframe thead th {\n",
       "        text-align: right;\n",
       "    }\n",
       "</style>\n",
       "<table border=\"1\" class=\"dataframe\">\n",
       "  <thead>\n",
       "    <tr style=\"text-align: right;\">\n",
       "      <th></th>\n",
       "      <th>stop_id</th>\n",
       "      <th>stop_name</th>\n",
       "      <th>stop_lat</th>\n",
       "      <th>stop_lon</th>\n",
       "    </tr>\n",
       "  </thead>\n",
       "  <tbody>\n",
       "    <tr>\n",
       "      <th>0</th>\n",
       "      <td>8220DB000002</td>\n",
       "      <td>Parnell Square West, stop 2</td>\n",
       "      <td>53.352244</td>\n",
       "      <td>-6.263723</td>\n",
       "    </tr>\n",
       "    <tr>\n",
       "      <th>1</th>\n",
       "      <td>8220DB000003</td>\n",
       "      <td>Parnell Square West, stop 3</td>\n",
       "      <td>53.352309</td>\n",
       "      <td>-6.263811</td>\n",
       "    </tr>\n",
       "    <tr>\n",
       "      <th>2</th>\n",
       "      <td>8220DB000004</td>\n",
       "      <td>Parnell Square West, stop 4</td>\n",
       "      <td>53.352575</td>\n",
       "      <td>-6.264175</td>\n",
       "    </tr>\n",
       "    <tr>\n",
       "      <th>3</th>\n",
       "      <td>8220DB000006</td>\n",
       "      <td>Parnell Square West, stop 6</td>\n",
       "      <td>53.352749</td>\n",
       "      <td>-6.264454</td>\n",
       "    </tr>\n",
       "    <tr>\n",
       "      <th>4</th>\n",
       "      <td>8220DB000007</td>\n",
       "      <td>Parnell Square West, stop 7</td>\n",
       "      <td>53.352841</td>\n",
       "      <td>-6.264570</td>\n",
       "    </tr>\n",
       "  </tbody>\n",
       "</table>\n",
       "</div>"
      ],
      "text/plain": [
       "        stop_id                    stop_name   stop_lat  stop_lon\n",
       "0  8220DB000002  Parnell Square West, stop 2  53.352244 -6.263723\n",
       "1  8220DB000003  Parnell Square West, stop 3  53.352309 -6.263811\n",
       "2  8220DB000004  Parnell Square West, stop 4  53.352575 -6.264175\n",
       "3  8220DB000006  Parnell Square West, stop 6  53.352749 -6.264454\n",
       "4  8220DB000007  Parnell Square West, stop 7  53.352841 -6.264570"
      ]
     },
     "execution_count": 60,
     "metadata": {},
     "output_type": "execute_result"
    }
   ],
   "source": [
    "stops_df.head()"
   ]
  },
  {
   "cell_type": "code",
   "execution_count": 61,
   "metadata": {},
   "outputs": [
    {
     "data": {
      "text/plain": [
       "(4208, 4)"
      ]
     },
     "execution_count": 61,
     "metadata": {},
     "output_type": "execute_result"
    }
   ],
   "source": [
    "stops_df.shape"
   ]
  },
  {
   "cell_type": "code",
   "execution_count": null,
   "metadata": {},
   "outputs": [],
   "source": [
    "def create_and_fill_table(df):\n",
    "    meta = MetaData()\n",
    "    \n",
    "    table = Table(\n",
    "        \"lines_for_plotting\", meta, \n",
    "        Column(\"stop_short\", Integer),\n",
    "        Column(\"line\", String(12)),\n",
    "        Column(\"route_endpoint\", String(500)),\n",
    "        Column(\"direction_id\", Integer),\n",
    "        Column(\"stop_name\", String(500)),\n",
    "        Column(\"stop_lat\", Float),\n",
    "        Column(\"stop_lon\", Float)\n",
    "    )\n",
    "    \n",
    "    meta.create_all(engine)\n",
    "    df.to_sql(\"lines_for_plotting\", con = engine, if_exists = \"append\", index=False, chunksize = 100)"
   ]
  },
  {
   "cell_type": "code",
   "execution_count": null,
   "metadata": {},
   "outputs": [],
   "source": [
    "create_and_fill_table(merged)"
   ]
  }
 ],
 "metadata": {
  "kernelspec": {
   "display_name": "Python 3",
   "language": "python",
   "name": "python3"
  },
  "language_info": {
   "codemirror_mode": {
    "name": "ipython",
    "version": 3
   },
   "file_extension": ".py",
   "mimetype": "text/x-python",
   "name": "python",
   "nbconvert_exporter": "python",
   "pygments_lexer": "ipython3",
   "version": "3.8.5"
  }
 },
 "nbformat": 4,
 "nbformat_minor": 4
}
