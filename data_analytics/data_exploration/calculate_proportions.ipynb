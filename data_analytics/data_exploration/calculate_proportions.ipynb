{
 "cells": [
  {
   "cell_type": "code",
   "execution_count": 1,
   "metadata": {},
   "outputs": [],
   "source": [
    "import pandas as pd\n",
    "import sqlalchemy\n",
    "from sqlalchemy import create_engine, MetaData, Table, Column, Integer, Float, String, DateTime\n",
    "\n",
    "# hide ipykernel warnings \n",
    "import warnings\n",
    "warnings.filterwarnings('ignore')\n",
    "\n",
    "pd.set_option('display.max_rows', 120)"
   ]
  },
  {
   "cell_type": "code",
   "execution_count": 2,
   "metadata": {},
   "outputs": [
    {
     "name": "stdout",
     "output_type": "stream",
     "text": [
      "2021-08-02 23:12:28,582 INFO sqlalchemy.engine.Engine SHOW VARIABLES LIKE 'sql_mode'\n",
      "2021-08-02 23:12:28,584 INFO sqlalchemy.engine.Engine [raw sql] {}\n",
      "2021-08-02 23:12:28,592 INFO sqlalchemy.engine.Engine SHOW VARIABLES LIKE 'lower_case_table_names'\n",
      "2021-08-02 23:12:28,594 INFO sqlalchemy.engine.Engine [generated in 0.00368s] {}\n",
      "2021-08-02 23:12:28,605 INFO sqlalchemy.engine.Engine SELECT DATABASE()\n",
      "2021-08-02 23:12:28,606 INFO sqlalchemy.engine.Engine [raw sql] {}\n"
     ]
    }
   ],
   "source": [
    "# Connect to database\n",
    "engine = create_engine(f\"mysql+mysqlconnector://{name}:{password}@{host}:3306/{db}\", echo=True)\n",
    "connection = engine.connect()"
   ]
  },
  {
   "cell_type": "code",
   "execution_count": 3,
   "metadata": {},
   "outputs": [],
   "source": [
    "# Read in list of most common subroutes\n",
    "with open(\"most_common_subroutes.txt\") as file:\n",
    "    most_common_subroutes = file.readlines()\n",
    "most_common_subroutes = [line.strip() for line in most_common_subroutes] "
   ]
  },
  {
   "cell_type": "code",
   "execution_count": 4,
   "metadata": {
    "scrolled": true
   },
   "outputs": [
    {
     "name": "stdout",
     "output_type": "stream",
     "text": [
      "['102_8', '102_9', '104_15', '104_16', '111_7', '111_8', '114_5', '114_6', '116_1', '116_3', '118_4', '11_40', '11_42', '120_7', '120_9', '122_18', '122_20', '123_34', '123_36', '130_10', '130_11', '13_60', '13_67', '140_19', '140_21', '142_12', '142_13', '145_102', '145_105', '14C_17', '14C_18', '14_15', '14_16', '150_8', '150_9', '151_15', '151_17', '15A_83', '15A_84', '15B_60', '15B_61', '15D_62', '15D_63', '15_16', '15_17', '161_50', '161_51', '16C_28', '16C_29', '16D_30', '16_20', '16_24', '17A_15', '17A_17', '17_10', '17_15', '184_28', '184_29', '185_53', '185_56', '18_3', '18_4', '1_37', '1_40', '220_10', '220_12', '236_10', '236_9', '238_11', '238_15', '239_26', '239_28', '25A_270', '25A_273', '25B_271', '25B_274', '25D_275', '25D_277', '25X_10', '25X_11', '25_269', '25_272', '26_28', '26_29', '270_42', '270_44', '27A_4', '27A_5', '27B_23', '27B_34', '27X_42', '27X_43', '27_17', '27_19', '29A_14', '29A_15', '31A_25', '31A_26', '31B_44', '31B_46', '31D_50', '31D_51', '31_15', '31_18', '32X_76', '32X_77', '32_57', '32_58', '33A_22', '33A_25', '33B_56', '33B_58', '33D_61', '33D_62', '33E_74', '33X_46', '33X_49', '33_44', '33_70', '37_14', '37_15', '38A_20', '38A_32', '38B_40', '38B_44', '38D_61', '38D_68', '38_14', '38_9', '39A_40', '39A_43', '39X_1', '39X_3', '39_20', '39_21', '40B_63', '40B_65', '40D_102', '40D_104', '40E_90', '40E_91', '40_27', '40_31', '41A_22', '41B_52', '41B_53', '41C_78', '41C_79', '41D_26', '41D_27', '41X_121', '41X_125', '41_3', '41_7', '42D_50', '42D_51', '42_42', '42_44', '43_84', '43_88', '44B_60', '44B_61', '44_36', '44_40', '45A_60', '45A_64', '46A_67', '46A_74', '46E_94', '47_136', '47_139', '49_27', '49_28', '4_10', '4_12', '51D_50', '51D_51', '51X_64', '53_20', '53_21', '54A_11', '54A_12', '56A_30', '56A_31', '59_10', '59_11', '61_106', '61_108', '63_26', '63_30', '65B_65', '65B_66', '65_74', '65_77', '66A_37', '66A_38', '66B_58', '66B_59', '66X_102', '66X_92', '66_17', '66_18', '67X_43', '67X_46', '67_4', '67_6', '68A_86', '68A_87', '68X_88', '68_81', '68_83', '69X_59', '69X_60', '69_45', '69_47', '70D_70', '70D_71', '70_60', '70_67', '75_17', '75_19', '76A_28', '76A_29', '76_36', '76_37', '77A_28', '77A_29', '77X_61', '79A_27', '79A_28', '79_10', '79_11', '7A_85', '7A_87', '7B_91', '7B_93', '7D_120', '7D_123', '7_70', '7_72', '83A_17', '83A_23', '83_16', '83_22', '84A_1', '84A_3', '84X_57', '84X_62', '84_27', '84_30', '9_5', '9_7']\n"
     ]
    }
   ],
   "source": [
    "print(most_common_subroutes)"
   ]
  },
  {
   "cell_type": "code",
   "execution_count": 5,
   "metadata": {},
   "outputs": [],
   "source": [
    "trips = pd.read_csv(\"trips_to_match_leavetimes.csv\")"
   ]
  },
  {
   "cell_type": "code",
   "execution_count": 6,
   "metadata": {},
   "outputs": [
    {
     "data": {
      "text/html": [
       "<div>\n",
       "<style scoped>\n",
       "    .dataframe tbody tr th:only-of-type {\n",
       "        vertical-align: middle;\n",
       "    }\n",
       "\n",
       "    .dataframe tbody tr th {\n",
       "        vertical-align: top;\n",
       "    }\n",
       "\n",
       "    .dataframe thead th {\n",
       "        text-align: right;\n",
       "    }\n",
       "</style>\n",
       "<table border=\"1\" class=\"dataframe\">\n",
       "  <thead>\n",
       "    <tr style=\"text-align: right;\">\n",
       "      <th></th>\n",
       "      <th>DAYOFSERVICE</th>\n",
       "      <th>TRIPID</th>\n",
       "      <th>LINEID</th>\n",
       "      <th>ROUTEID</th>\n",
       "      <th>DIRECTION</th>\n",
       "      <th>PLANNEDTIME_ARR</th>\n",
       "      <th>PLANNEDTIME_DEP</th>\n",
       "      <th>ACTUALTIME_ARR</th>\n",
       "      <th>ACTUALTIME_DEP</th>\n",
       "      <th>JOURNEYTIME</th>\n",
       "    </tr>\n",
       "  </thead>\n",
       "  <tbody>\n",
       "    <tr>\n",
       "      <th>0</th>\n",
       "      <td>07-FEB-18 00:00:00</td>\n",
       "      <td>6253917</td>\n",
       "      <td>102</td>\n",
       "      <td>102_8</td>\n",
       "      <td>1</td>\n",
       "      <td>87253</td>\n",
       "      <td>84600</td>\n",
       "      <td>86999</td>\n",
       "      <td>84588</td>\n",
       "      <td>2411</td>\n",
       "    </tr>\n",
       "    <tr>\n",
       "      <th>1</th>\n",
       "      <td>07-FEB-18 00:00:00</td>\n",
       "      <td>6250433</td>\n",
       "      <td>102</td>\n",
       "      <td>102_8</td>\n",
       "      <td>1</td>\n",
       "      <td>29588</td>\n",
       "      <td>26100</td>\n",
       "      <td>30330</td>\n",
       "      <td>26175</td>\n",
       "      <td>4155</td>\n",
       "    </tr>\n",
       "    <tr>\n",
       "      <th>2</th>\n",
       "      <td>07-FEB-18 00:00:00</td>\n",
       "      <td>6253905</td>\n",
       "      <td>102</td>\n",
       "      <td>102_8</td>\n",
       "      <td>1</td>\n",
       "      <td>31737</td>\n",
       "      <td>28200</td>\n",
       "      <td>32979</td>\n",
       "      <td>28292</td>\n",
       "      <td>4687</td>\n",
       "    </tr>\n",
       "    <tr>\n",
       "      <th>3</th>\n",
       "      <td>07-FEB-18 00:00:00</td>\n",
       "      <td>6260556</td>\n",
       "      <td>102</td>\n",
       "      <td>102_8</td>\n",
       "      <td>1</td>\n",
       "      <td>33237</td>\n",
       "      <td>29700</td>\n",
       "      <td>33432</td>\n",
       "      <td>29770</td>\n",
       "      <td>3662</td>\n",
       "    </tr>\n",
       "    <tr>\n",
       "      <th>4</th>\n",
       "      <td>07-FEB-18 00:00:00</td>\n",
       "      <td>6259508</td>\n",
       "      <td>102</td>\n",
       "      <td>102_8</td>\n",
       "      <td>1</td>\n",
       "      <td>34437</td>\n",
       "      <td>30900</td>\n",
       "      <td>34743</td>\n",
       "      <td>30893</td>\n",
       "      <td>3850</td>\n",
       "    </tr>\n",
       "  </tbody>\n",
       "</table>\n",
       "</div>"
      ],
      "text/plain": [
       "         DAYOFSERVICE   TRIPID LINEID ROUTEID  DIRECTION  PLANNEDTIME_ARR  \\\n",
       "0  07-FEB-18 00:00:00  6253917    102   102_8          1            87253   \n",
       "1  07-FEB-18 00:00:00  6250433    102   102_8          1            29588   \n",
       "2  07-FEB-18 00:00:00  6253905    102   102_8          1            31737   \n",
       "3  07-FEB-18 00:00:00  6260556    102   102_8          1            33237   \n",
       "4  07-FEB-18 00:00:00  6259508    102   102_8          1            34437   \n",
       "\n",
       "   PLANNEDTIME_DEP  ACTUALTIME_ARR  ACTUALTIME_DEP  JOURNEYTIME  \n",
       "0            84600           86999           84588         2411  \n",
       "1            26100           30330           26175         4155  \n",
       "2            28200           32979           28292         4687  \n",
       "3            29700           33432           29770         3662  \n",
       "4            30900           34743           30893         3850  "
      ]
     },
     "execution_count": 6,
     "metadata": {},
     "output_type": "execute_result"
    }
   ],
   "source": [
    "trips.head()"
   ]
  },
  {
   "cell_type": "code",
   "execution_count": 7,
   "metadata": {},
   "outputs": [
    {
     "data": {
      "text/plain": [
       "DAYOFSERVICE       object\n",
       "TRIPID              int64\n",
       "LINEID             object\n",
       "ROUTEID            object\n",
       "DIRECTION           int64\n",
       "PLANNEDTIME_ARR     int64\n",
       "PLANNEDTIME_DEP     int64\n",
       "ACTUALTIME_ARR      int64\n",
       "ACTUALTIME_DEP      int64\n",
       "JOURNEYTIME         int64\n",
       "dtype: object"
      ]
     },
     "execution_count": 7,
     "metadata": {},
     "output_type": "execute_result"
    }
   ],
   "source": [
    "trips.dtypes"
   ]
  },
  {
   "cell_type": "code",
   "execution_count": 8,
   "metadata": {},
   "outputs": [],
   "source": [
    "trips[\"LINEID\"] = trips[\"LINEID\"].astype(str)"
   ]
  },
  {
   "cell_type": "code",
   "execution_count": 9,
   "metadata": {},
   "outputs": [
    {
     "name": "stdout",
     "output_type": "stream",
     "text": [
      "['102', '104', '111', '114', '116', '118', '11', '120', '122', '123', '130', '13', '140', '142', '145', '14C', '14', '150', '151', '15A', '15B', '15D', '15', '161', '16C', '16D', '16', '17A', '17', '184', '185', '18', '1', '220', '236', '238', '239', '25A', '25B', '25D', '25X', '25', '26', '270', '27A', '27B', '27X', '27', '29A', '31A', '31B', '31D', '31', '32X', '32', '33A', '33B', '33D', '33E', '33X', '33', '37', '38A', '38B', '38D', '38', '39A', '39X', '39', '40B', '40D', '40E', '40', '41A', '41B', '41C', '41D', '41X', '41', '42D', '42', '43', '44B', '44', '45A', '46A', '46E', '47', '49', '4', '51D', '51X', '53', '54A', '56A', '59', '61', '63', '65B', '65', '66A', '66B', '66X', '66', '67X', '67', '68A', '68X', '68', '69X', '69', '70D', '70', '75', '76A', '76', '77A', '77X', '79A', '79', '7A', '7B', '7D', '7', '83A', '83', '84A', '84X', '84', '9']\n"
     ]
    }
   ],
   "source": [
    "print(trips.LINEID.unique().tolist())"
   ]
  },
  {
   "cell_type": "code",
   "execution_count": 10,
   "metadata": {},
   "outputs": [],
   "source": [
    "# Initiate dataframe to hold stop proportions\n",
    "proportions_df = pd.DataFrame(columns=[\"LINEID\", \"ROUTEID\", \"DIRECTION\", \"PROGRNUMBER\", \"STOPPOINTID\", \"STOP_PERCENT\"])"
   ]
  },
  {
   "cell_type": "code",
   "execution_count": 11,
   "metadata": {},
   "outputs": [],
   "source": [
    "# Drop table stop_proportions\n",
    "drop_query = sqlalchemy.text(\"DROP TABLE stop_proportions\")\n",
    "# connection.execution_options(autocommit=True).execute(drop_query)"
   ]
  },
  {
   "cell_type": "code",
   "execution_count": 12,
   "metadata": {},
   "outputs": [],
   "source": [
    "# Empty table stop_proportions of all data (noticed possible mistake in proportion calculation)\n",
    "truncate_query = sqlalchemy.text(\"TRUNCATE TABLE stop_proportions\")\n",
    "# connection.execution_options(autocommit=True).execute(truncate_query)"
   ]
  },
  {
   "cell_type": "code",
   "execution_count": 13,
   "metadata": {
    "scrolled": true
   },
   "outputs": [
    {
     "name": "stdout",
     "output_type": "stream",
     "text": [
      "ROUTE 102_8 complete\n",
      "ROUTE 102_9 complete\n",
      "ROUTE 104_15 complete\n",
      "ROUTE 104_16 complete\n",
      "ROUTE 111_7 complete\n",
      "ROUTE 111_8 complete\n",
      "ROUTE 114_5 complete\n",
      "ROUTE 114_6 complete\n",
      "ROUTE 116_1 complete\n",
      "ROUTE 116_3 complete\n",
      "ROUTE 118_4 complete\n",
      "ROUTE 11_40 complete\n",
      "ROUTE 11_42 complete\n",
      "ROUTE 120_7 complete\n",
      "ROUTE 120_9 complete\n",
      "ROUTE 122_18 complete\n",
      "ROUTE 122_20 complete\n",
      "ROUTE 123_34 complete\n",
      "ROUTE 123_36 complete\n",
      "ROUTE 130_10 complete\n",
      "ROUTE 130_11 complete\n",
      "ROUTE 13_60 complete\n",
      "ROUTE 13_67 complete\n",
      "ROUTE 140_19 complete\n",
      "ROUTE 140_21 complete\n",
      "ROUTE 142_12 complete\n",
      "ROUTE 142_13 complete\n",
      "ROUTE 145_102 complete\n",
      "ROUTE 145_105 complete\n",
      "ROUTE 14C_17 complete\n",
      "ROUTE 14C_18 complete\n",
      "ROUTE 14_15 complete\n",
      "ROUTE 14_16 complete\n",
      "ROUTE 150_8 complete\n",
      "ROUTE 150_9 complete\n",
      "ROUTE 151_15 complete\n",
      "ROUTE 151_17 complete\n",
      "ROUTE 15A_83 complete\n",
      "ROUTE 15A_84 complete\n",
      "ROUTE 15B_60 complete\n",
      "ROUTE 15B_61 complete\n",
      "ROUTE 15D_62 complete\n",
      "ROUTE 15D_63 complete\n",
      "ROUTE 15_16 complete\n",
      "ROUTE 15_17 complete\n",
      "ROUTE 161_50 complete\n",
      "ROUTE 161_51 complete\n",
      "ROUTE 16C_28 complete\n",
      "ROUTE 16C_29 complete\n",
      "ROUTE 16D_30 complete\n",
      "ROUTE 16_20 complete\n",
      "ROUTE 16_24 complete\n",
      "ROUTE 17A_15 complete\n",
      "ROUTE 17A_17 complete\n",
      "ROUTE 17_10 complete\n",
      "ROUTE 17_15 complete\n",
      "ROUTE 184_28 complete\n",
      "ROUTE 184_29 complete\n",
      "ROUTE 185_53 complete\n",
      "ROUTE 185_56 complete\n",
      "ROUTE 18_3 complete\n",
      "ROUTE 18_4 complete\n",
      "ROUTE 1_37 complete\n",
      "ROUTE 1_40 complete\n",
      "ROUTE 220_10 complete\n",
      "ROUTE 220_12 complete\n",
      "ROUTE 236_10 complete\n",
      "ROUTE 236_9 complete\n",
      "ROUTE 238_11 complete\n",
      "ROUTE 238_15 complete\n",
      "ROUTE 239_26 complete\n",
      "ROUTE 239_28 complete\n",
      "ROUTE 25A_270 complete\n",
      "ROUTE 25A_273 complete\n",
      "ROUTE 25B_271 complete\n",
      "ROUTE 25B_274 complete\n",
      "ROUTE 25D_275 complete\n",
      "ROUTE 25D_277 complete\n",
      "ROUTE 25X_10 complete\n",
      "ROUTE 25X_11 complete\n",
      "ROUTE 25_269 complete\n",
      "ROUTE 25_272 complete\n",
      "ROUTE 26_28 complete\n",
      "ROUTE 26_29 complete\n",
      "ROUTE 270_42 complete\n",
      "ROUTE 270_44 complete\n",
      "ROUTE 27A_4 complete\n",
      "ROUTE 27A_5 complete\n",
      "ROUTE 27B_23 complete\n",
      "ROUTE 27B_34 complete\n",
      "ROUTE 27X_42 complete\n",
      "ROUTE 27X_43 complete\n",
      "ROUTE 27_17 complete\n",
      "ROUTE 27_19 complete\n",
      "ROUTE 29A_14 complete\n",
      "ROUTE 29A_15 complete\n",
      "ROUTE 31A_25 complete\n",
      "ROUTE 31A_26 complete\n",
      "ROUTE 31B_44 complete\n",
      "ROUTE 31B_46 complete\n",
      "ROUTE 31D_50 complete\n",
      "ROUTE 31D_51 complete\n",
      "ROUTE 31_15 complete\n",
      "ROUTE 31_18 complete\n",
      "ROUTE 32X_76 complete\n",
      "ROUTE 32X_77 complete\n",
      "ROUTE 32_57 complete\n",
      "ROUTE 32_58 complete\n",
      "ROUTE 33A_22 complete\n",
      "ROUTE 33A_25 complete\n",
      "ROUTE 33B_56 complete\n",
      "ROUTE 33B_58 complete\n",
      "ROUTE 33D_61 complete\n",
      "ROUTE 33D_62 complete\n",
      "ROUTE 33E_74 complete\n",
      "ROUTE 33X_46 complete\n",
      "ROUTE 33X_49 complete\n",
      "ROUTE 33_44 complete\n",
      "ROUTE 33_70 complete\n",
      "ROUTE 37_14 complete\n",
      "ROUTE 37_15 complete\n",
      "ROUTE 38A_20 complete\n",
      "ROUTE 38A_32 complete\n",
      "ROUTE 38B_40 complete\n",
      "ROUTE 38B_44 complete\n",
      "ROUTE 38D_61 complete\n",
      "ROUTE 38D_68 complete\n",
      "ROUTE 38_14 complete\n",
      "ROUTE 38_9 complete\n",
      "ROUTE 39A_40 complete\n",
      "ROUTE 39A_43 complete\n",
      "ROUTE 39X_1 complete\n",
      "ROUTE 39X_3 complete\n",
      "ROUTE 39_20 complete\n",
      "ROUTE 39_21 complete\n",
      "ROUTE 40B_63 complete\n",
      "ROUTE 40B_65 complete\n",
      "ROUTE 40D_102 complete\n",
      "ROUTE 40D_104 complete\n",
      "ROUTE 40E_90 complete\n",
      "ROUTE 40E_91 complete\n",
      "ROUTE 40_27 complete\n",
      "ROUTE 40_31 complete\n",
      "ROUTE 41A_22 complete\n",
      "ROUTE 41B_52 complete\n",
      "ROUTE 41B_53 complete\n",
      "ROUTE 41C_78 complete\n",
      "ROUTE 41C_79 complete\n",
      "ROUTE 41D_26 complete\n",
      "ROUTE 41D_27 complete\n",
      "ROUTE 41X_121 complete\n",
      "ROUTE 41X_125 complete\n",
      "ROUTE 41_3 complete\n",
      "ROUTE 41_7 complete\n",
      "ROUTE 42D_50 complete\n",
      "ROUTE 42D_51 complete\n",
      "ROUTE 42_42 complete\n",
      "ROUTE 42_44 complete\n",
      "ROUTE 43_84 complete\n",
      "ROUTE 43_88 complete\n",
      "ROUTE 44B_60 complete\n",
      "ROUTE 44B_61 complete\n",
      "ROUTE 44_36 complete\n",
      "ROUTE 44_40 complete\n",
      "ROUTE 45A_60 complete\n",
      "ROUTE 45A_64 complete\n",
      "ROUTE 46A_67 complete\n",
      "ROUTE 46A_74 complete\n",
      "ROUTE 46E_94 complete\n",
      "ROUTE 47_136 complete\n",
      "ROUTE 47_139 complete\n",
      "ROUTE 49_27 complete\n",
      "ROUTE 49_28 complete\n",
      "ROUTE 4_10 complete\n",
      "ROUTE 4_12 complete\n",
      "ROUTE 51D_50 complete\n",
      "ROUTE 51D_51 complete\n",
      "ROUTE 51X_64 complete\n",
      "ROUTE 53_20 complete\n",
      "ROUTE 53_21 complete\n",
      "ROUTE 54A_11 complete\n",
      "ROUTE 54A_12 complete\n",
      "ROUTE 56A_30 complete\n",
      "ROUTE 56A_31 complete\n",
      "ROUTE 59_10 complete\n",
      "ROUTE 59_11 complete\n",
      "ROUTE 61_106 complete\n",
      "ROUTE 61_108 complete\n",
      "ROUTE 63_26 complete\n",
      "ROUTE 63_30 complete\n",
      "ROUTE 65B_65 complete\n",
      "ROUTE 65B_66 complete\n",
      "ROUTE 65_74 complete\n",
      "ROUTE 65_77 complete\n",
      "ROUTE 66A_37 complete\n",
      "ROUTE 66A_38 complete\n",
      "ROUTE 66B_58 complete\n",
      "ROUTE 66B_59 complete\n",
      "ROUTE 66X_102 complete\n",
      "ROUTE 66X_92 complete\n",
      "ROUTE 66_17 complete\n",
      "ROUTE 66_18 complete\n",
      "ROUTE 67X_43 complete\n",
      "ROUTE 67X_46 complete\n",
      "ROUTE 67_4 complete\n",
      "ROUTE 67_6 complete\n",
      "ROUTE 68A_86 complete\n",
      "ROUTE 68A_87 complete\n",
      "ROUTE 68X_88 complete\n",
      "ROUTE 68_81 complete\n",
      "ROUTE 68_83 complete\n",
      "ROUTE 69X_59 complete\n",
      "ROUTE 69X_60 complete\n",
      "ROUTE 69_45 complete\n",
      "ROUTE 69_47 complete\n",
      "ROUTE 70D_70 complete\n",
      "ROUTE 70D_71 complete\n",
      "ROUTE 70_60 complete\n",
      "ROUTE 70_67 complete\n",
      "ROUTE 75_17 complete\n",
      "ROUTE 75_19 complete\n",
      "ROUTE 76A_28 complete\n",
      "ROUTE 76A_29 complete\n",
      "ROUTE 76_36 complete\n",
      "ROUTE 76_37 complete\n",
      "ROUTE 77A_28 complete\n",
      "ROUTE 77A_29 complete\n",
      "ROUTE 77X_61 complete\n",
      "ROUTE 79A_27 complete\n",
      "ROUTE 79A_28 complete\n",
      "ROUTE 79_10 complete\n",
      "ROUTE 79_11 complete\n",
      "ROUTE 7A_85 complete\n",
      "ROUTE 7A_87 complete\n",
      "ROUTE 7B_91 complete\n",
      "ROUTE 7B_93 complete\n",
      "ROUTE 7D_120 complete\n",
      "ROUTE 7D_123 complete\n",
      "ROUTE 7_70 complete\n",
      "ROUTE 7_72 complete\n",
      "ROUTE 83A_17 complete\n",
      "ROUTE 83A_23 complete\n",
      "ROUTE 83_16 complete\n",
      "ROUTE 83_22 complete\n",
      "ROUTE 84A_1 complete\n",
      "ROUTE 84A_3 complete\n",
      "ROUTE 84X_57 complete\n",
      "ROUTE 84X_62 complete\n",
      "ROUTE 84_27 complete\n",
      "ROUTE 84_30 complete\n",
      "ROUTE 9_5 complete\n",
      "ROUTE 9_7 complete\n"
     ]
    }
   ],
   "source": [
    "# Calculate proportions for stops on most common subroutes and add to dataframe\n",
    "for route in most_common_subroutes:\n",
    "    line = str(route.split(\"_\")[0])\n",
    "    \n",
    "    current = pd.read_csv(\"stoptimes/\" + line + \"_stops.csv\")\n",
    "    merged = current.merge(trips, how=\"left\", on=[\"DAYOFSERVICE\", \"TRIPID\"])\n",
    "    \n",
    "    route_subset = merged.loc[merged[\"ROUTEID\"] == route]\n",
    "    route_subset.dropna(inplace=True)\n",
    "    route_subset[\"TIME_TO_STOP\"] = route_subset[\"ACTUALARR_STOP\"] - route_subset[\"ACTUALTIME_DEP\"]\n",
    "    \n",
    "    direction = route_subset.iloc[0][\"DIRECTION\"]\n",
    "    \n",
    "    removal_indices = route_subset[route_subset[\"TIME_TO_STOP\"] < 0].index\n",
    "    route_subset.drop(removal_indices, inplace=True)\n",
    "    \n",
    "    route_subset[\"STOP_PERCENT\"] = route_subset[\"TIME_TO_STOP\"] / route_subset[\"JOURNEYTIME\"] * 100\n",
    "    route_subset.drop([\"DAYOFSERVICE\", \"TRIPID\", \"ROUTEID\", \"PLANNEDDEP_STOP\", \"PLANNEDARR_STOP\", \"ACTUALARR_STOP\", \"ACTUALDEP_STOP\", \"LINEID\", \"PLANNEDTIME_ARR\", \"PLANNEDTIME_DEP\", \"ACTUALTIME_ARR\", \"ACTUALTIME_DEP\", \"JOURNEYTIME\", \"TIME_TO_STOP\"], axis = 1, inplace=True)\n",
    "    \n",
    "    stop_list = route_subset.STOPPOINTID.unique().tolist()\n",
    "    \n",
    "    for stop in stop_list:\n",
    "        current_stop = route_subset.loc[route_subset[\"STOPPOINTID\"] == stop]\n",
    "        median_percent = current_stop.STOP_PERCENT.median()\n",
    "        new_row_proportions_df = {\"LINEID\":line, \"ROUTEID\":route, \"DIRECTION\":direction, \"PROGRNUMBER\":current_stop.iloc[0][\"PROGRNUMBER\"], \"STOPPOINTID\":stop, \"STOP_PERCENT\":median_percent}\n",
    "        proportions_df = proportions_df.append(new_row_proportions_df, ignore_index=True)\n",
    "    print(\"ROUTE\", route, \"complete\")"
   ]
  },
  {
   "cell_type": "code",
   "execution_count": 14,
   "metadata": {},
   "outputs": [],
   "source": [
    "# Sort dataframe\n",
    "proportions_df = proportions_df.sort_values([\"ROUTEID\", \"PROGRNUMBER\"])"
   ]
  },
  {
   "cell_type": "code",
   "execution_count": 15,
   "metadata": {},
   "outputs": [
    {
     "data": {
      "text/html": [
       "<div>\n",
       "<style scoped>\n",
       "    .dataframe tbody tr th:only-of-type {\n",
       "        vertical-align: middle;\n",
       "    }\n",
       "\n",
       "    .dataframe tbody tr th {\n",
       "        vertical-align: top;\n",
       "    }\n",
       "\n",
       "    .dataframe thead th {\n",
       "        text-align: right;\n",
       "    }\n",
       "</style>\n",
       "<table border=\"1\" class=\"dataframe\">\n",
       "  <thead>\n",
       "    <tr style=\"text-align: right;\">\n",
       "      <th></th>\n",
       "      <th>LINEID</th>\n",
       "      <th>ROUTEID</th>\n",
       "      <th>DIRECTION</th>\n",
       "      <th>PROGRNUMBER</th>\n",
       "      <th>STOPPOINTID</th>\n",
       "      <th>STOP_PERCENT</th>\n",
       "    </tr>\n",
       "  </thead>\n",
       "  <tbody>\n",
       "    <tr>\n",
       "      <th>16</th>\n",
       "      <td>102</td>\n",
       "      <td>102_8</td>\n",
       "      <td>1.0</td>\n",
       "      <td>1.0</td>\n",
       "      <td>4381</td>\n",
       "      <td>0.000000</td>\n",
       "    </tr>\n",
       "    <tr>\n",
       "      <th>17</th>\n",
       "      <td>102</td>\n",
       "      <td>102_8</td>\n",
       "      <td>1.0</td>\n",
       "      <td>2.0</td>\n",
       "      <td>935</td>\n",
       "      <td>1.059135</td>\n",
       "    </tr>\n",
       "    <tr>\n",
       "      <th>20</th>\n",
       "      <td>102</td>\n",
       "      <td>102_8</td>\n",
       "      <td>1.0</td>\n",
       "      <td>3.0</td>\n",
       "      <td>936</td>\n",
       "      <td>1.554126</td>\n",
       "    </tr>\n",
       "    <tr>\n",
       "      <th>21</th>\n",
       "      <td>102</td>\n",
       "      <td>102_8</td>\n",
       "      <td>1.0</td>\n",
       "      <td>4.0</td>\n",
       "      <td>913</td>\n",
       "      <td>4.036384</td>\n",
       "    </tr>\n",
       "    <tr>\n",
       "      <th>52</th>\n",
       "      <td>102</td>\n",
       "      <td>102_8</td>\n",
       "      <td>1.0</td>\n",
       "      <td>5.0</td>\n",
       "      <td>914</td>\n",
       "      <td>5.107714</td>\n",
       "    </tr>\n",
       "  </tbody>\n",
       "</table>\n",
       "</div>"
      ],
      "text/plain": [
       "   LINEID ROUTEID  DIRECTION  PROGRNUMBER STOPPOINTID  STOP_PERCENT\n",
       "16    102   102_8        1.0          1.0        4381      0.000000\n",
       "17    102   102_8        1.0          2.0         935      1.059135\n",
       "20    102   102_8        1.0          3.0         936      1.554126\n",
       "21    102   102_8        1.0          4.0         913      4.036384\n",
       "52    102   102_8        1.0          5.0         914      5.107714"
      ]
     },
     "execution_count": 15,
     "metadata": {},
     "output_type": "execute_result"
    }
   ],
   "source": [
    "proportions_df.head()"
   ]
  },
  {
   "cell_type": "code",
   "execution_count": 16,
   "metadata": {},
   "outputs": [
    {
     "data": {
      "text/plain": [
       "(12789, 6)"
      ]
     },
     "execution_count": 16,
     "metadata": {},
     "output_type": "execute_result"
    }
   ],
   "source": [
    "proportions_df.shape"
   ]
  },
  {
   "cell_type": "code",
   "execution_count": 17,
   "metadata": {},
   "outputs": [
    {
     "data": {
      "text/plain": [
       "LINEID          0\n",
       "ROUTEID         0\n",
       "DIRECTION       0\n",
       "PROGRNUMBER     0\n",
       "STOPPOINTID     0\n",
       "STOP_PERCENT    0\n",
       "dtype: int64"
      ]
     },
     "execution_count": 17,
     "metadata": {},
     "output_type": "execute_result"
    }
   ],
   "source": [
    "proportions_df.isna().sum()"
   ]
  },
  {
   "cell_type": "code",
   "execution_count": 18,
   "metadata": {},
   "outputs": [
    {
     "data": {
      "text/plain": [
       "LINEID           object\n",
       "ROUTEID          object\n",
       "DIRECTION       float64\n",
       "PROGRNUMBER     float64\n",
       "STOPPOINTID      object\n",
       "STOP_PERCENT    float64\n",
       "dtype: object"
      ]
     },
     "execution_count": 18,
     "metadata": {},
     "output_type": "execute_result"
    }
   ],
   "source": [
    "proportions_df.dtypes"
   ]
  },
  {
   "cell_type": "code",
   "execution_count": 19,
   "metadata": {
    "scrolled": true
   },
   "outputs": [],
   "source": [
    "# Change encoding for direction to match GTFS data (0 for OB and 1 for IB)\n",
    "proportions_df[\"DIRECTION\"] = proportions_df[\"DIRECTION\"].astype(\"int64\")\n",
    "proportions_df[\"DIRECTION\"] = proportions_df[\"DIRECTION\"] - 1"
   ]
  },
  {
   "cell_type": "code",
   "execution_count": 20,
   "metadata": {},
   "outputs": [],
   "source": [
    "proportions_df[\"PROGRNUMBER\"] = proportions_df[\"PROGRNUMBER\"].astype(\"int64\")"
   ]
  },
  {
   "cell_type": "code",
   "execution_count": 22,
   "metadata": {},
   "outputs": [
    {
     "data": {
      "text/html": [
       "<div>\n",
       "<style scoped>\n",
       "    .dataframe tbody tr th:only-of-type {\n",
       "        vertical-align: middle;\n",
       "    }\n",
       "\n",
       "    .dataframe tbody tr th {\n",
       "        vertical-align: top;\n",
       "    }\n",
       "\n",
       "    .dataframe thead th {\n",
       "        text-align: right;\n",
       "    }\n",
       "</style>\n",
       "<table border=\"1\" class=\"dataframe\">\n",
       "  <thead>\n",
       "    <tr style=\"text-align: right;\">\n",
       "      <th></th>\n",
       "      <th>LINEID</th>\n",
       "      <th>ROUTEID</th>\n",
       "      <th>DIRECTION</th>\n",
       "      <th>PROGRNUMBER</th>\n",
       "      <th>STOPPOINTID</th>\n",
       "      <th>STOP_PERCENT</th>\n",
       "    </tr>\n",
       "  </thead>\n",
       "  <tbody>\n",
       "    <tr>\n",
       "      <th>16</th>\n",
       "      <td>102</td>\n",
       "      <td>102_8</td>\n",
       "      <td>0</td>\n",
       "      <td>1</td>\n",
       "      <td>4381</td>\n",
       "      <td>0.000000</td>\n",
       "    </tr>\n",
       "    <tr>\n",
       "      <th>17</th>\n",
       "      <td>102</td>\n",
       "      <td>102_8</td>\n",
       "      <td>0</td>\n",
       "      <td>2</td>\n",
       "      <td>935</td>\n",
       "      <td>1.059135</td>\n",
       "    </tr>\n",
       "    <tr>\n",
       "      <th>20</th>\n",
       "      <td>102</td>\n",
       "      <td>102_8</td>\n",
       "      <td>0</td>\n",
       "      <td>3</td>\n",
       "      <td>936</td>\n",
       "      <td>1.554126</td>\n",
       "    </tr>\n",
       "    <tr>\n",
       "      <th>21</th>\n",
       "      <td>102</td>\n",
       "      <td>102_8</td>\n",
       "      <td>0</td>\n",
       "      <td>4</td>\n",
       "      <td>913</td>\n",
       "      <td>4.036384</td>\n",
       "    </tr>\n",
       "    <tr>\n",
       "      <th>52</th>\n",
       "      <td>102</td>\n",
       "      <td>102_8</td>\n",
       "      <td>0</td>\n",
       "      <td>5</td>\n",
       "      <td>914</td>\n",
       "      <td>5.107714</td>\n",
       "    </tr>\n",
       "  </tbody>\n",
       "</table>\n",
       "</div>"
      ],
      "text/plain": [
       "   LINEID ROUTEID  DIRECTION  PROGRNUMBER STOPPOINTID  STOP_PERCENT\n",
       "16    102   102_8          0            1        4381      0.000000\n",
       "17    102   102_8          0            2         935      1.059135\n",
       "20    102   102_8          0            3         936      1.554126\n",
       "21    102   102_8          0            4         913      4.036384\n",
       "52    102   102_8          0            5         914      5.107714"
      ]
     },
     "execution_count": 22,
     "metadata": {},
     "output_type": "execute_result"
    }
   ],
   "source": [
    "proportions_df.head()"
   ]
  },
  {
   "cell_type": "code",
   "execution_count": 24,
   "metadata": {},
   "outputs": [],
   "source": [
    "# Create function to add contents of dataframe to database\n",
    "def create_and_fill_table(df):\n",
    "    meta = MetaData()\n",
    "    \n",
    "    table = Table(\n",
    "        \"stop_proportions\", meta, \n",
    "        Column(\"LINEID\", String(12)),\n",
    "        Column(\"ROUTEID\", String(12)),\n",
    "        Column(\"DIRECTION\", Integer),\n",
    "        Column(\"PROGRNUMBER\", Integer),\n",
    "        Column(\"STOPPOINTID\", Integer),\n",
    "        Column(\"STOP_PERCENT\", Float)\n",
    "    )\n",
    "    \n",
    "    meta.create_all(engine)\n",
    "    df.to_sql(\"stop_proportions\", con=engine, if_exists=\"append\", index=False)"
   ]
  },
  {
   "cell_type": "code",
   "execution_count": 25,
   "metadata": {
    "scrolled": true
   },
   "outputs": [
    {
     "name": "stdout",
     "output_type": "stream",
     "text": [
      "2021-08-02 23:24:22,625 INFO sqlalchemy.engine.Engine BEGIN (implicit)\n",
      "2021-08-02 23:24:22,631 INFO sqlalchemy.engine.Engine SELECT COUNT(*) FROM information_schema.tables WHERE table_schema = %(table_schema)s AND table_name = %(table_name)s\n",
      "2021-08-02 23:24:22,633 INFO sqlalchemy.engine.Engine [generated in 0.00348s] {'table_schema': 'dubbusdb', 'table_name': 'stop_proportions'}\n",
      "2021-08-02 23:24:22,641 INFO sqlalchemy.engine.Engine \n",
      "CREATE TABLE stop_proportions (\n",
      "\t`LINEID` VARCHAR(12), \n",
      "\t`ROUTEID` VARCHAR(12), \n",
      "\t`DIRECTION` INTEGER, \n",
      "\t`PROGRNUMBER` INTEGER, \n",
      "\t`STOPPOINTID` INTEGER, \n",
      "\t`STOP_PERCENT` FLOAT\n",
      ")\n",
      "\n",
      "\n",
      "2021-08-02 23:24:22,643 INFO sqlalchemy.engine.Engine [no key 0.00315s] {}\n",
      "2021-08-02 23:24:22,679 INFO sqlalchemy.engine.Engine COMMIT\n",
      "2021-08-02 23:24:22,698 INFO sqlalchemy.engine.Engine SELECT COUNT(*) FROM information_schema.tables WHERE table_schema = %(table_schema)s AND table_name = %(table_name)s\n",
      "2021-08-02 23:24:22,700 INFO sqlalchemy.engine.Engine [cached since 0.07084s ago] {'table_schema': 'dubbusdb', 'table_name': 'stop_proportions'}\n",
      "2021-08-02 23:24:22,711 INFO sqlalchemy.engine.Engine BEGIN (implicit)\n",
      "2021-08-02 23:24:22,809 INFO sqlalchemy.engine.Engine INSERT INTO stop_proportions (`LINEID`, `ROUTEID`, `DIRECTION`, `PROGRNUMBER`, `STOPPOINTID`, `STOP_PERCENT`) VALUES (%(LINEID)s, %(ROUTEID)s, %(DIRECTION)s, %(PROGRNUMBER)s, %(STOPPOINTID)s, %(STOP_PERCENT)s)\n",
      "2021-08-02 23:24:22,810 INFO sqlalchemy.engine.Engine [generated in 0.07726s] ({'LINEID': '102', 'ROUTEID': '102_8', 'DIRECTION': 0, 'PROGRNUMBER': 1, 'STOPPOINTID': 4381, 'STOP_PERCENT': 0.0}, {'LINEID': '102', 'ROUTEID': '102_8', 'DIRECTION': 0, 'PROGRNUMBER': 2, 'STOPPOINTID': 935, 'STOP_PERCENT': 1.059135039717564}, {'LINEID': '102', 'ROUTEID': '102_8', 'DIRECTION': 0, 'PROGRNUMBER': 3, 'STOPPOINTID': 936, 'STOP_PERCENT': 1.5541257291364827}, {'LINEID': '102', 'ROUTEID': '102_8', 'DIRECTION': 0, 'PROGRNUMBER': 4, 'STOPPOINTID': 913, 'STOP_PERCENT': 4.036384309266629}, {'LINEID': '102', 'ROUTEID': '102_8', 'DIRECTION': 0, 'PROGRNUMBER': 5, 'STOPPOINTID': 914, 'STOP_PERCENT': 5.1077136900625435}, {'LINEID': '102', 'ROUTEID': '102_8', 'DIRECTION': 0, 'PROGRNUMBER': 6, 'STOPPOINTID': 938, 'STOP_PERCENT': 6.671423474848377}, {'LINEID': '102', 'ROUTEID': '102_8', 'DIRECTION': 0, 'PROGRNUMBER': 7, 'STOPPOINTID': 940, 'STOP_PERCENT': 8.354292681054815}, {'LINEID': '102', 'ROUTEID': '102_8', 'DIRECTION': 0, 'PROGRNUMBER': 8, 'STOPPOINTID': 941, 'STOP_PERCENT': 9.158451180631126}  ... displaying 10 of 12789 total bound parameter sets ...  {'LINEID': '9', 'ROUTEID': '9_7', 'DIRECTION': 1, 'PROGRNUMBER': 67, 'STOPPOINTID': 6229, 'STOP_PERCENT': 98.03488086465242}, {'LINEID': '9', 'ROUTEID': '9_7', 'DIRECTION': 1, 'PROGRNUMBER': 68, 'STOPPOINTID': 7131, 'STOP_PERCENT': 100.0})\n",
      "2021-08-02 23:24:23,354 INFO sqlalchemy.engine.Engine COMMIT\n"
     ]
    }
   ],
   "source": [
    "create_and_fill_table(proportions_df)"
   ]
  },
  {
   "cell_type": "code",
   "execution_count": null,
   "metadata": {},
   "outputs": [],
   "source": []
  }
 ],
 "metadata": {
  "kernelspec": {
   "display_name": "Python 3",
   "language": "python",
   "name": "python3"
  },
  "language_info": {
   "codemirror_mode": {
    "name": "ipython",
    "version": 3
   },
   "file_extension": ".py",
   "mimetype": "text/x-python",
   "name": "python",
   "nbconvert_exporter": "python",
   "pygments_lexer": "ipython3",
   "version": "3.8.5"
  }
 },
 "nbformat": 4,
 "nbformat_minor": 2
}
